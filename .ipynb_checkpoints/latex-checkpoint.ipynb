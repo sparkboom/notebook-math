{
 "cells": [
  {
   "cell_type": "markdown",
   "metadata": {},
   "source": [
    "# Example LaTeX notation\n",
    "https://en.wikibooks.org/wiki/LaTeX/Mathematics\n",
    "\n"
   ]
  },
  {
   "cell_type": "markdown",
   "metadata": {},
   "source": [
    "|||||\n",
    "|-|-|-|-|\n",
    "|\\alpha<br/>$\\alpha$ | A<br/>$A$| \\beta<br/>$\\beta$ | B<br/>$B$ | \\gamma<br/>$\\gamma$ | \\Gamma<br/>$\\Gamma$ | \\delta<br/>$\\delta$ | \\Delta<br/>$\\Delta$ |\n",
    "| \\epsilon<br/>$\\epsilon$ | \\varepsilon<br/>$\\varepsilon$ | E<br/>$E$ | \\zeta<br/>$\\zeta$ |  Z<br/>$Z$ |  \\eta<br/>$\\eta$ | H<br/>$H$ | \\theta<br/>$\\theta$ |\n",
    "| \\vartheta<br/>$\\vartheta$ | \\Theta<br/>$\\Theta$ | \\iota<br/>$\\iota$ | I<br/>$I$ | \\kappa<br/>$\\kappa$ | \\varkappa<br/>$\\varkappa$ | K<br/>$K$ | \\lambda<br/>$\\lambda$ |\n",
    "| \\lambda<br/>$\\lambda$ | \\mu<br/>$\\mu$ | M<br/>$M$ | \\nu<br/>$\\nu$ | N<br/>$N$ | \\xi<br/>$\\xi$ | \\Xi<br/>$\\Xi$ | \\omicron<br/>$\\omicron$ |\n",
    "| O<br/>$O$ | \\pi<br/>$\\pi$ | \\varpi<br/>$\\varpi$ | \\Pi<br/>$\\Pi$ | \\rho<br/>$\\rho$ | \\varrho<br/>$\\varrho$ | P<br/>$P$ | \\sigma<br/>$\\sigma$ |\n",
    "| \\varsigma<br/>$\\varsigma$ | \\Sigma<br/>$\\Sigma$ | \\tau<br/>$\\tau$ | T<br/>$T$ | \\upsilon<br/>$\\upsilon$ | \\Upsilon<br/>$\\Upsilon$ | \\phi<br/>$\\phi$ | \\varphi<br/>$\\varphi$ |\n",
    "| \\Phi<br/>$\\Phi$ | \\chi<br/>$\\chi$ | X<br/>$X$ | \\psi<br/>$\\psi$ | \\Psi<br/>$\\Psi$ | \\omega<br/>$\\omega$ | \\Omega<br/>$\\Omega$ |\n"
   ]
  },
  {
   "cell_type": "markdown",
   "metadata": {},
   "source": [
    "|||\n",
    "|-|-|\n",
    "|(  \\big(  \\Big(  \\bigg(  \\Bigg( <br/>\\Bigg)  \\bigg)  \\Big)  \\big)  )<br/>$\\displaystyle ( \\big( \\Big( \\bigg( \\Bigg( \\Bigg) \\bigg) \\Big) \\big) )$|\\{  \\big\\{  \\Big\\{  \\bigg\\{  \\Bigg\\{ <br/>\\Bigg\\}  \\bigg\\}  \\Big\\}  \\big\\}  \\}  <br/>$\\displaystyle \\{ \\big\\{ \\Big\\{ \\bigg\\{ \\Bigg\\{ \\Bigg\\} \\bigg\\} \\Big\\} \\big\\} \\}$|\n",
    "|[  \\big[  \\Big[  \\bigg[  \\Bigg[<br/>\\Bigg]  \\bigg]  \\Big]  \\big]  ]  <br/>$\\displaystyle [ \\big[ \\Big[ \\bigg[ \\Bigg[ \\Bigg] \\bigg] \\Big] \\big] ]$|\\langle  \\big \\langle  \\Big \\langle  \\bigg \\langle  \\Bigg \\langle  <br/> \\Bigg \\rangle  \\bigg \\rangle  \\Big \\rangle  \\big \\rangle   \\rangle  <br/>$\\displaystyle  \\langle \\big \\langle \\Big \\langle \\bigg \\langle \\Bigg \\langle \\Bigg \\rangle \\bigg \\rangle \\Big \\rangle \\big \\rangle  \\rangle$|\n",
    "\n"
   ]
  },
  {
   "cell_type": "markdown",
   "metadata": {},
   "source": [
    "### Symbols\n",
    "\n",
    "||||||||||||\n",
    "|-|-|-|-|-|-|-|-|-|-|-|\n",
    "| Addition/Subtraction | add<br/>**a+b**<br/>$a+b$ | subtract<br/>**a-b**<br/>$a-b$ | plus or minus<br/>**\\pm**<br/>$\\pm$ | minus or plus<br/>**\\mp**<br/>$\\mp$ |\n",
    "| Multiply/Divide | multiply<br/>**ab**<br/>$ab$ | dot multiply<br/>**a\\cdotb**<br/>$a\\cdot b$ | times<br/>**a\\times b**<br/>$a\\times b$ | inline divide<br/>**^a/_b**<br/>$^a/_b$ | fraction<br/>**\\frac{a}{b}**<br/>$\\frac{a}{b}$ |\n",
    "| Power/Root | power<br/>**a^{n}**<br/>$a^{n}$ | power fraction<br/>**a^\\frac{m}{n}**<br/>$a^\\frac{m}{n}$ | power power<br/>**a^{b^{c}}**<br/>$a^{b^{c}}$ | square root<br/>**\\sqrt{m}**<br/>$\\sqrt{m}$ | root<br/>**\\sqrt[n]{m}**<br/>$\\sqrt[n]{m}$ | root fraction<br/>**\\sqrt{\\frac{a}{b}}**<br/>$\\sqrt{\\frac{a}{b}}$ |\n",
    "| Factorial | factorial<br/>**!**<br/>$!$ |\n",
    "| Modulo | modulo<br/>**a \\bmod b**<br/>$a \\bmod b$ | modulo<br/>**a \\pmod b**<br/>$a \\pmod b$ |\n",
    "|\n",
    "| Equality/Equivalence Relation | equal<br/>**a=b**<br/>$a=b$ | equivalent<br/>**a\\equiv b**<br/>$a\\equiv b$ | not equal<br/>**\\neq**<br/>$\\neq$ | proportional to<br/>**\\propto**<br/>$\\propto$ | approach to a limit<br/>**\\doteq**<br/>$\\doteq$ | approximate<br/>**\\approx**<br/>$\\approx$ | is isomorphic to<br/>**\\cong**<br/>$\\cong$ | similar<br/>**\\sim**<br/>$\\sim$ | similar or equal<br/>**\\simeq**<br/>$\\simeq$ |\n",
    "| Inequality Relation | less than<br/>**<**<br/>$<$ | less than or equal<br/>**\\leq**<br/>$\\leq$ | greater than<br/>**>**<br/>$>$ | greater than or equal<br/>**\\geq**<br/>$\\geq$ | ll<br/>**\\ll**<br/>$\\ll$ | gg<br/>**\\gg**<br/>$\\gg$ |\n",
    "|\n",
    "| Trigonometry | sine<br/>**\\sin(\\theta)**<br/>$\\sin(\\theta)$ | cosine<br/>**\\cos(\\theta)**<br/>$\\cos(\\theta)$ | tangent<br/>**\\tan(\\theta)**<br/>$\\tan(\\theta)$ | secant<br/>**\\sec(\\theta)**<br/>$\\sec(\\theta)$ | cosecant<br/>**\\csc(\\theta)**<br/>$\\csc(\\theta)$ | cotangent<br/>**\\cot(\\theta)**<br/>$\\cot(\\theta)$ |\n",
    "| Inverse Trigonometry | arc sine<br/>**\\arcsin(\\theta)**<br/>$\\arcsin(\\theta)$ | arc cosine<br/>**\\arccos(\\theta)**<br/>$\\arccos(\\theta)$ | arc tangent<br/>**\\arctan(\\theta)**<br/>$\\arctan(\\theta)$ | arc secant | arc cosecant | arc cotangent |\n",
    "| Hyperbolic | hyperbolic sine<br/>**\\sinh(\\theta)**<br/>$\\sinh(\\theta)$ | hyperbolic cosine<br/>**\\cosh(\\theta)**<br/>$\\cosh(\\theta)$ | hyperbolic tangent<br/>**\\tanh(\\theta)**<br/>$\\tanh(\\theta)$ | hyperbolic secant | hyperbolic cosecant | hyperbolic cotangent<br/>**\\coth(\\theta)**<br/>$\\coth(\\theta)$ |\n",
    "|\n",
    "| Sum/Product | sum<br/>**\\displaystyle<br/>\\sum_{i=n}^{10}t_i**<br/>$\\displaystyle \\sum_{i=n}^{10}t_i$ | product<br/>**\\displaystyle<br/>\\prod_{i=n}^{10}t_i**<br/>$\\displaystyle \\prod_{i=n}^{10}t_i$ | coproduct<br/>**\\displaystyle<br/>\\coprod_{j\\in J} X_j**<br/>$\\displaystyle \\coprod_{j\\in J}X_j$ | big-o-plus<br/>**\\displaystyle<br/>\\bigoplus_{j\\in J} X_j**<br/>$\\displaystyle \\bigoplus_{j\\in J}X_j$ | big-o-times<br/>**\\displaystyle<br/>\\bigotimes_{j\\in J} X_j**<br/>$\\displaystyle \\bigotimes_{j\\in J}X_j$ | big-o-dot<br/>**\\displaystyle<br/>\\bigodot_{j\\in J} X_j**<br/>$\\displaystyle \\bigodot_{j\\in J}X_j$ |\n",
    "|\n",
    "| Calculus | limit<br/>**\\displaystyle<br/>\\lim_{x\\to\\infty}**<br/>$\\displaystyle \\lim_{x\\to\\infty}$| integral<br/>**\\displaystyle<br/>\\int_0^\\infty**<br/>$\\displaystyle \\int_0^\\infty$ | 2nd integral<br/>**\\displaystyle<br/>\\iint_0^\\infty**<br/>$\\displaystyle \\iint_0^\\infty$ | 3rd integral<br/>**\\displaystyle<br/>\\iiint_0^\\infty**<br/>$\\displaystyle \\iiint_0^\\infty$ | o integral<br/>**\\displaystyle<br/>\\oint_0^\\infty**<br/>$\\displaystyle \\oint_0^\\infty$ |\n",
    "|\n",
    "| Set Relation | subset<br/>**\\subset**<br/>$\\subset$ | subset or equal<br/>**\\subseteq**<br/>$\\subseteq$ | n subset or equal<br/>**\\nsubseteq**<br/>$\\nsubseteq$ | superset<br/>**\\supset**<br/>$\\supset$ | superset or equal<br/>**\\supseteq**<br/>$\\supseteq$ | n superset or equal<br/>**\\nsupseteq**<br/>$\\nsupseteq$ | square subset<br/>**\\sqsubset**<br/>$\\sqsubset$ | square subset or equal<br/>**\\sqsubseteq**<br/>$\\sqsubseteq$ | square superset<br/>**\\sqsupset**<br/>$\\sqsupset$ | square superset or equal<br/>**\\sqsupseteq**<br/>$\\sqsupseteq$ |\n",
    "| Logic Notation | exists<br/>**\\exists**<br/>$\\exists$ | does not exist<br/>**\\nexists**<br/>$\\nexists$ | for all<br/>**\\forall**<br/>$\\forall$ | element of<br/>**\\in**<br/>$\\in$ | not element of<br/>**\\notin**<br/>$\\notin$ | not element of<br/>**\\ni**<br/>$\\ni$ |\n",
    "| Logic Operators | not<br/>**\\neg**<br/>$\\neg$ | logical and<br/>**\\land**<br/>$\\land$ | logical or<br/>**\\lor**<br/>$\\lor$ | implies<br/>**\\implies**<br/>$\\implies$ | if and only if<br/>**\\iff**<br/>$\\iff$ | turnstile<br/>**\\vdash**<br/>$\\vdash$ | reversed turnstile<br/>**\\dashv**<br/>$\\dashv$ |\n",
    "|\n",
    "| functions | kernel<br/>**\\ker**<br/>$\\ker$ | limit superior<br/>**\\limsup**<br/>$\\limsup$ |limit inferior<br/>**\\liminf**<br/>$\\liminf$ | deg<br/>**\\deg**<br/>$\\deg$ | greatest common denominator<br/>**\\gcd**<br/>$\\gcd$ | lg<br/>**\\lg**<br/>$\\lg$ |\n",
    "| functions | sup<br/>**\\sup**<br/>$\\sup$ | det<br/>**\\det**<br/>$\\det$ |hom<br/>**\\hom**<br/>$\\hom$ |arg<br/>**\\arg**<br/>$\\arg$ |dim<br/>**\\dim**<br/>$\\dim$ |\n",
    "|\n",
    "| order | precedes<br/>**\\prec**<br/>$\\prec$ | succeeds<br/>**\\succ**<br/>$\\succ$ | precedes / equals<br/>**\\preceq**<br/>$\\preceq$ | succeeds / equals<br/>**\\succeq**<br/>$\\succeq$ |\n",
    "| geometry |  parallel<br/>**\\parallel**<br/>$\\parallel$ | not parallel<br/>**\\nparallel**<br/>$\\nparallel$ | perpendicular <br/>**\\perp**<br/>$\\perp$ |\n",
    "|\n",
    "| unamed | smile<br/>**\\smile**<br/>$\\smile$ | frown<br/>**\\frown**<br/>$\\frown$ |models<br/>**\\models**<br/>$\\models$ |mid<br/>**\\mid**<br/>$\\mid$ |sphericalangle<br/>**\\sphericalangle**<br/>$\\sphericalangle$ |measuredangle<br/>**\\measuredangle**<br/>$\\measuredangle$ |\n",
    "| unamed | tensor product<br/>**\\otimes**<br/>$\\otimes$ | direct sum sets<br/>**\\oplus**<br/>$\\oplus$ | times<br/>**\\times**<br/>$\\times$ | cup<br/>**\\cup**<br/>$\\cup$ | cap<br/>**\\cap**<br/>$\\cap$ | asymptotic<br/>**\\asymp**<br/>$\\asymp$ | bowtie<br/>**\\bowtie**<br/>$\\bowtie$ |\n"
   ]
  },
  {
   "cell_type": "markdown",
   "metadata": {},
   "source": [
    "( ) [ ]| ' :\n",
    "\n",
    "\\parallel → $\\parallel$\n",
    "\\nparallel → $\\nparallel$\n",
    "\n",
    "factorial<br/>**!**\n",
    "\n",
    "Binomial $\\binom{x}{y}$\n",
    "\n",
    "Evaluation $f(n) = n^5 + 4n^2 + 2 |_{n=17}$\n",
    "\n",
    "\n",
    "\\parallel → $\\parallel$"
   ]
  },
  {
   "cell_type": "markdown",
   "metadata": {},
   "source": [
    "$\\displaystyle \\lim_{0->\\infty}$"
   ]
  },
  {
   "cell_type": "markdown",
   "metadata": {},
   "source": [
    "radius = 1\n",
    "regular polygon inside a circle, cannot use pi in our calculations\n",
    "\n",
    "2 sides is a double-sided line across the diameter\n",
    "c = 2r + 2r = 4r\n",
    "\n",
    "| Example Description | Example LaTeX Notation | Example LaTeX-Rendered Symbols |\n",
    "| ---- | ---- | ----- |\n",
    "| Complex Fraction | \\frac{\\frac{a}{b}+\\frac{c}{d}}{e-f^g} | $\\frac{\\frac{a}{b}+\\frac{c}{d}}{e-f^g}$ |\n",
    "| Factorial | \\frac{n!}{k!(n-k)!} | $\\frac{n!}{k!(n-k)!}$ |\n",
    "| Polynomial | a.x^2 b.x + c | $a x^2+b x+c$ |\n",
    "| Exponential | \\exp(-x) = 0 | $\\exp(-x) = 0$ |\n",
    "| Natural Logarithmic | \\ln(y) = x | $\\ln(y) = x$ |\n",
    "| Logarithmic | \\log_{10}(y) = x | $\\log_{10}(y) = x$ |\n",
    "| For all x from set X | \\forall x \\in X | $\\forall x \\in X$ |\n",
    "| There exists y less than epsilon | \\exists y \\leq \\epsilon | $\\exists y \\leq \\epsilon$ |\n",
    "| Quadratic Eq | \\over{-b\\pm\\sqrt{4ac + b^2}}{2a} | ${-b\\pm\\sqrt{4ac + b^2}}\\over{2a}$ |"
   ]
  },
  {
   "cell_type": "code",
   "execution_count": null,
   "metadata": {},
   "outputs": [],
   "source": []
  }
 ],
 "metadata": {
  "kernelspec": {
   "display_name": "Python 3",
   "language": "python",
   "name": "python3"
  },
  "language_info": {
   "codemirror_mode": {
    "name": "ipython",
    "version": 3
   },
   "file_extension": ".py",
   "mimetype": "text/x-python",
   "name": "python",
   "nbconvert_exporter": "python",
   "pygments_lexer": "ipython3",
   "version": "3.6.4"
  }
 },
 "nbformat": 4,
 "nbformat_minor": 2
}
