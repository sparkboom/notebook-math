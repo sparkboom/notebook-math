{
 "cells": [
  {
   "cell_type": "markdown",
   "metadata": {},
   "source": [
    "| Symbol &#x2003;&#x2003;&#x2003;&#x2003;&#x2003;&#x2003;&#x2003;&#x2003; | Description |\n",
    "|-|-|\n",
    "| $\\emptyset$ | Empty Set|\n",
    "|$\\mathbb{N}$| Natural Numbers {1, 2, 3... $\\infty$}|\n",
    "|$\\mathbb{Z}$| Integers {$-\\infty$ ... -1, 0, 1... $\\infty$}|\n",
    "|$\\mathbb{Q}$| Rational Numbers {$-\\infty... -\\frac{1}{\\infty}, 0, \\frac{1}{\\infty}... \\infty$}|\n",
    "| $\\mathbb{R} \\setminus \\mathbb{Q}$ <br/> $\\mathbb{R} - \\mathbb{Q}$ <br/> $\\mathbb{P} = \\{x | x \\in \\mathbb{R} \\land x \\not\\in \\mathbb{Q}\\}$ | Irrational Numbers |\n",
    "|$\\mathbb{A}$| Algebraic Numbers |\n",
    "|$\\mathbb{C}$| Complex Numbers |\n",
    "|$\\mathbb{H}$| Quarternions |\n",
    "|$\\mathbb{O}$| Octonions |\n",
    "|$\\mathbb{S}$| Sedenions |\n",
    "|$\\mathbb{U}$| Universe |"
   ]
  },
  {
   "cell_type": "code",
   "execution_count": null,
   "metadata": {},
   "outputs": [],
   "source": []
  }
 ],
 "metadata": {
  "kernelspec": {
   "display_name": "Python 3",
   "language": "python",
   "name": "python3"
  },
  "language_info": {
   "codemirror_mode": {
    "name": "ipython",
    "version": 3
   },
   "file_extension": ".py",
   "mimetype": "text/x-python",
   "name": "python",
   "nbconvert_exporter": "python",
   "pygments_lexer": "ipython3",
   "version": "3.6.5"
  }
 },
 "nbformat": 4,
 "nbformat_minor": 2
}
