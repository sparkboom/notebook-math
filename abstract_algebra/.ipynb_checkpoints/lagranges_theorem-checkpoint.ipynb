{
 "cells": [
  {
   "cell_type": "markdown",
   "metadata": {},
   "source": [
    "# Cosets & Lagrange's Theorem"
   ]
  },
  {
   "cell_type": "markdown",
   "metadata": {},
   "source": [
    "----\n",
    "\n",
    "## Definitions\n",
    "\n",
    "(For this, we are only considering 'Finite Groups')\n",
    "\n",
    "**Subgroup** - *Subset* of a Group, and also a *Group* itself.\n",
    "> $\\mathbb{H} \\leq \\mathbb{G}$\n",
    "\n",
    "**Cosets** - are subsets of a Group, that simply partition the group, dividing it into sections of equal size.\n",
    "> i.e. $\\mathbb{Z}_{12} = \\{0, 1, 2, 3, 4, 5, 6, 7, 8, 9, 10, 11 \\}$ <br/>\n",
    "> &#x2003; *the  group of integers, of modulus 12 over addition*<br/><br/>\n",
    "> $\\mathbb{Y} = \\forall\\; z \\in \\mathbb{Z}_{12} \\;|\\; z \\mod{4} = 0.$ <br/>\n",
    "> &#x2003; $0 + \\mathbb{Y} = \\{0, 4, 8\\}$ <br/>\n",
    "> &#x2003; $1 + \\mathbb{Y} = \\{1, 5, 9\\}$ <br/>\n",
    "> &#x2003; $2 + \\mathbb{Y} = \\{2, 6, 10\\}$ <br/>\n",
    "> &#x2003; $3 + \\mathbb{Y} = \\{3, 7, 11\\}$ <br/>\n",
    "> \n",
    "> $0 + \\mathbb{Y}, 1 + \\mathbb{Y}, 2 + \\mathbb{Y}, 3 + \\mathbb{Y}$ are all cosets of $\\mathbb{Z}_{12}$ since they partition $\\mathbb{Z}_{12}$ equally\n",
    "\n",
    "> $0 + \\mathbb{Y}, 1 + \\mathbb{Y}, 2 + \\mathbb{Y}, 3 + \\mathbb{Y}$ are left cosets as the number is added on the left<br/>\n",
    "> $\\mathbb{Y} + 0, \\mathbb{Y} + 1, \\mathbb{Y} + 2, \\mathbb{Y} + 3$ are right cosets as the number is added on the right <br/>\n",
    "> \\# of left cosets = \\# of right cosets <br/>\n",
    "> left cosets fo not always equal right cosets <br/>\n",
    "> for $\\mathbb{Y}$, they are equal because $\\mathbb{Y}$ is commutative.\n",
    "\n",
    "**Index** - the number of cosets required to partition the group ($r$)\n",
    "> cosets of $\\mathbb{Y}$ above, the index is 4\n"
   ]
  },
  {
   "cell_type": "markdown",
   "metadata": {},
   "source": [
    "----\n",
    "\n",
    "## Lagrange's Theorem\n",
    "> $\\mathbb{H} \\leq \\mathbb{G} \\implies |\\mathbb{H}| \\mid |\\mathbb{G}|$ <br/>\n",
    "> &#x2003; if H is a subgroup of B, then the order of H divides the order of G\n",
    "\n",
    "> or $\\frac{|\\mathbb{G}|}{|\\mathbb{H}|} = z\\text{, where } z \\in \\mathbb{Z}^+$ <br/>\n",
    "> &#x2003;  $\\frac{\\text{Order of a Group}}{\\text{Order of it's Subgroup}} = \\text{Whole positive number}$"
   ]
  },
  {
   "cell_type": "markdown",
   "metadata": {},
   "source": [
    "----\n",
    "\n",
    "## Example of Lagrange's Theorem\n",
    "\n",
    "> Let G be a group with $|\\mathbb{G}| = 323$ <br/>\n",
    "> Divisors of 323: 1, 17, 19, 323 <br/>\n",
    "> *Possile* subgroup orders are: 1, 17, 19, 323 <br/>\n",
    "> &#x2003; *doesn't mean there are subgroups with these orders <br/>*\n",
    ">\n",
    "> Standard subgroups: $\\mathbb{G}$, $\\{e\\}$\n",
    "> &#x2003; $|\\mathbb{G}| = 323$ <br/>\n",
    "> &#x2003; $|\\{e\\}| = 1$ <br/>\n",
    ">\n",
    "> *Any* other subgroup must have order 17 or 19\n",
    "\n",
    "The Alternating Group ($\\mathbb{A}$) on 4 elements ([see more](https://groupprops.subwiki.org/wiki/Element_structure_of_alternating_group:A4#Order_computation))\n",
    "> Order $|\\mathbb{A}_4| = 12$ <br/>\n",
    "> Divisors: 1, 2, 3, 4, 6, 12 <br/>\n",
    "> Histogram of Subgroups with <br/>\n",
    "> &#x2003; Order 1: 1 <br/>\n",
    "> &#x2003; Order 2: 3 <br/>\n",
    "> &#x2003; Order 3: 4 <br/>\n",
    "> &#x2003; Order 4: 1 <br/>\n",
    "> &#x2003; Order 6: 0 <br/>\n",
    "> &#x2003; Order 12: 1 <br/>"
   ]
  },
  {
   "cell_type": "markdown",
   "metadata": {},
   "source": [
    "----\n",
    "\n",
    "## Proof of Lagrange's Theorem\n",
    "*Proof:* $\\mathbb{G}$ is a finite group with $|\\mathbb{G}| = n$\n",
    "> Case 1: $\\{e\\} \\leq \\mathbb{G}$<br/>\n",
    "> &#x2003; $|\\{e\\}| = 1$, 1 divides $n$  <br/>\n",
    ">\n",
    "> Case 2: $\\mathbb{G} \\leq \\mathbb{G}$ <br/>\n",
    "> &#x2003; $|\\mathbb{G}| = n$, $n$ divides $n$  <br/>\n",
    ">\n",
    "> Case 3: $\\mathbb{H} < \\mathbb{G} \\land \\mathbb{H} \\neq \\{e\\}$<br/>\n",
    "> &#x2003; Pick $q_1 \\in \\mathbb{G} \\mid q_1 \\not\\in \\mathbb{H}$<br/>\n",
    "> &#x2003; $g_1\\mathbb{H} = \\{ g_1\\cdot h \\; \\forall \\; h \\in \\mathbb{H} \\}$<br/>\n",
    "> &#x2003; $\\mathbb{H}$ and $g_1\\mathbb{H}$ do not overlap <br/>\n",
    "> &#x2003;&#x2003; $\\mathbb{H}\\cap g_1\\mathbb{H} = \\emptyset$"
   ]
  },
  {
   "cell_type": "markdown",
   "metadata": {},
   "source": [
    "----\n",
    "\n",
    "## References\n",
    "- [Socratica - Abstract Algebra - Cosets & Lagrange's Theorem][1]\n",
    "- [scalenescott - Modern Algebra Made Easy- Cosets & Lagrange's Theorem][2]\n",
    "- [Wikipedia - Lagrange's Theorem][3]\n",
    "\n",
    "[1]: https://www.youtube.com/watch?v=TCcSZEL_3CQ&index=8&list=PLi01XoE8jYoi3SgnnGorR_XOW3IcK-TP6\n",
    "[2]: https://www.youtube.com/watch?v=A-bKe4uzqMM\n",
    "[3]: https://en.wikipedia.org/wiki/Lagrange%27s_theorem_(group_theory)"
   ]
  },
  {
   "cell_type": "code",
   "execution_count": null,
   "metadata": {},
   "outputs": [],
   "source": []
  }
 ],
 "metadata": {
  "kernelspec": {
   "display_name": "Python 3",
   "language": "python",
   "name": "python3"
  },
  "language_info": {
   "codemirror_mode": {
    "name": "ipython",
    "version": 3
   },
   "file_extension": ".py",
   "mimetype": "text/x-python",
   "name": "python",
   "nbconvert_exporter": "python",
   "pygments_lexer": "ipython3",
   "version": "3.6.5"
  }
 },
 "nbformat": 4,
 "nbformat_minor": 2
}
