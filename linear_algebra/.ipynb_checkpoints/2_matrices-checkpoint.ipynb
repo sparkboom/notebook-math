{
 "cells": [
  {
   "cell_type": "code",
   "execution_count": 39,
   "metadata": {},
   "outputs": [],
   "source": [
    "import numpy as np\n",
    "from numpy import matlib as npmatlib\n",
    "from tabulate import tabulate\n",
    "from IPython.display import display, Math, Latex\n",
    "\n",
    "def np2lat(a):\n",
    "    rows = a.shape[0]\n",
    "    cols = a.shape[1]\n",
    "    t = '\\\\begin{pmatrix}'\n",
    "    for x in range(0, rows):\n",
    "        for y in range(0, cols):\n",
    "            if y>0: t += '&' \n",
    "            t += str(a[x,y])\n",
    "        t += '\\\\\\\\'\n",
    "    t += '\\\\end{pmatrix}'\n",
    "    return t"
   ]
  },
  {
   "cell_type": "markdown",
   "metadata": {},
   "source": [
    "# Introduction to Linear Algebra \n",
    "# Matrices \n",
    "\n",
    "## Matrix Definition\n",
    "\n",
    "### Matrix Vector Space\n",
    "\n",
    "A matrix $M$ is a Vector Space $(\\M^{m \\times n}, \\F)$ <br/>\n",
    "- $\\F$ Field of scalars \n",
    "- $\\M$ A set of Matrices\n",
    "- $s\\times$ Scalar Multiplication ($s \\in \\F, M \\in \\M^{m \\times n} : s\\cdot M \\in \\M^{m \\times n}$)\n",
    "- $M+$ Matrix Addition ($M,N \\in \\M^{m \\times n} : M+N \\in \\M^{m \\times n}$)\n",
    "\n",
    "The matrix space extends to $\\{ \\M^{m \\times n}, \\F, s\\times, M+, M\\times, M^T, M^{*r}, M^{*s} \\}$ <br/>\n",
    "- $M\\times$ Matrix Multiplication ($M \\in \\M^{m \\times n},N \\in \\M^{n \\times p} : M\\cdot N \\in \\M^{m \\times p}$)\n",
    "- $M^T$ Matrix Transposition ($M \\in \\M : M^T \\in \\M$)\n",
    "- $M^{*r}$ Row Operations\n",
    "- $M^{*s}$ Submatrix\n",
    "\n",
    "### Applications\n",
    "- Social Sciences\n",
    "- Algebraic Equations\n",
    "- Differential Equations\n",
    "- Mechanics\n",
    "- Electric Circuits\n",
    "- Nuclear Physics\n",
    "- Aerodynamics\n",
    "- Astronomy\n",
    "\n",
    "### Conventions\n",
    "\n",
    "#### $m \\times n$ Matrix\n",
    "\n",
    "An $m\\times n$ *elements* from a field $\\F$ with\n",
    "> - $m$ rows,\n",
    "> - $n$ columns,\n",
    "> - bounded by parenthesis $(, )$\n",
    "\n",
    "Is said to\n",
    "> - have an order of \"$m \\times n$\" *(or \"$n$\" if square)*\n",
    "> - is a $m \\times n$ matrix $A = (a_{ij})$\n",
    ">    - $i = 1,...,m$\n",
    ">    - $j = 1,...,n$\n",
    "\n",
    "Example: <br/>\n",
    "$M^{m \\times n} = \\{ A = (a_{ij}) : a_{ij} \\in \\F, i=1,...,m, j = 1,...,n \\}$ <br/>\n",
    "> $A = \\begin{pmatrix} \n",
    "a_{11} &a_{12} &\\dots &a_{1j} &\\dots &a_{1n} \\\\\n",
    "a_{21} &a_{22} &\\dots &a_{2j} &\\dots &a_{2n} \\\\\n",
    "\\dots  &\\dots  &\\dots &\\dots  &\\dots &\\dots  \\\\\n",
    "a_{i1} &a_{i2} &\\dots &a_{ij} &\\dots &a_{in} \\\\\n",
    "\\dots  &\\dots  &\\dots &\\dots  &\\dots &\\dots  \\\\\n",
    "a_{m1} &a_{m2} &\\dots &a_{mj} &\\dots &a_{mn} \\\\\n",
    "\\end{pmatrix}$\n",
    "\n",
    "### Fields\n",
    "- Real $M \\in \\R^{m \\times n}$\n",
    "- Complex $M \\in \\C^{m \\times n}$"
   ]
  },
  {
   "cell_type": "markdown",
   "metadata": {},
   "source": [
    "## Matrix Operations & Axioms\n",
    "\n",
    "### Scalar Multiplication ($s \\cdot$)\n",
    "$x \\in \\F, A \\in \\F^{m \\times n}$ <br/>\n",
    "$x \\times A = xA \\in \\F^{m \\times n}$\n",
    ">$\\msn x \n",
    "\\begin{pmatrix} \n",
    "a_{11} &a_{12} \\\\\n",
    "a_{21} &a_{22} \\\\\n",
    "a_{31} &a_{32} \\\\\n",
    "\\end{pmatrix} = \n",
    "\\begin{pmatrix} \n",
    "xa_{11} &xa_{12} \\\\\n",
    "xa_{21} &xa_{22} \\\\\n",
    "xa_{31} &xa_{32} \\\\\n",
    "\\end{pmatrix}$ <br/>\n",
    "\n",
    "Axiom 1. <br/>\n",
    "> $k_1, k_2 \\in \\F, A \\in \\F^{m\\times n} : (k_1 + k_2)A = k_1A + k_2A$ <br/>\n",
    "\n",
    "Axiom 2. <br/>\n",
    "> $k_1, k_2 \\in \\F, A \\in \\F^{m\\times n} :  k_1(k_2A) = (k_1k_2)A $<br/>\n",
    "\n",
    "Axiom 3. Distributive Laws - Over addition<br/>\n",
    "> $k\\in \\F, A, B \\in \\F^{m\\times n} : k(A + B) = k \\cdot A + k \\cdot B$ <br/>\n",
    "> $k \\in \\F, A, B \\in \\F^{m\\times n} : (A + B)k = A \\cdot k + B \\cdot k$ <br/>\n",
    "\n",
    "Axiom 4. Scalar Inverse<br/>\n",
    "> $A \\in \\F^{m\\times n} : (−1)A = −A$ <br/>\n",
    "\n",
    "Axiom 5. <br/>\n",
    "> $A \\in \\F^{m\\times n} : 0\\cdot A = 0$ <br/>\n",
    "\n",
    "Axiom 6. <br/>\n",
    "> $k \\in \\F : k \\cdot 0 = 0$ <br/>\n",
    "\n",
    "### Matrix Addition  (M+)\n",
    "$A,B,C \\in \\F^{m \\times n}$ <br/>\n",
    "$A+B=C$\n",
    ">$\\ims\\begin{pmatrix} \n",
    "a_{11} &a_{12} \\\\\n",
    "a_{21} &a_{22} \\\\\n",
    "a_{31} &a_{32} \\\\\n",
    "\\end{pmatrix} + \n",
    "\\begin{pmatrix} \n",
    "b_{11} &b_{12} \\\\\n",
    "b_{21} &b_{22} \\\\\n",
    "b_{31} &b_{32} \\\\\n",
    "\\end{pmatrix} = \n",
    "\\begin{pmatrix} \n",
    "a_{11} + b_{11} &a_{12} + b_{12} \\\\\n",
    "a_{21} + b_{21} &a_{22} + b_{22} \\\\\n",
    "a_{31} + b_{31} &a_{32} + b_{32} \\\\\n",
    "\\end{pmatrix}$ <br/>\n",
    "\n",
    "#### Matrix Subtraction  \n",
    "$A,B,C \\in \\F^{m \\times n}$ <br/>\n",
    "$A+(-B)=C$\n",
    ">$\\ims\\begin{pmatrix} \n",
    "a_{11} &a_{12} \\\\\n",
    "a_{21} &a_{22} \\\\\n",
    "a_{31} &a_{32} \\\\\n",
    "\\end{pmatrix} - \n",
    "\\begin{pmatrix} \n",
    "b_{11} &b_{12} \\\\\n",
    "b_{21} &b_{22} \\\\\n",
    "b_{31} &b_{32} \\\\\n",
    "\\end{pmatrix} = \n",
    "\\begin{pmatrix} \n",
    "a_{11} - b_{11} &a_{12} - b_{12} \\\\\n",
    "a_{21} - b_{21} &a_{22} - b_{22} \\\\\n",
    "a_{31} - b_{31} &a_{32} - b_{32} \\\\\n",
    "\\end{pmatrix}$ <br/>\n",
    "\n",
    "Axiom 1. Commutative  <br/>\n",
    "> $A,B,C \\in \\F^{m \\times n} : A + B = B + A$ <br/>\n",
    "\n",
    "Axiom 2. Associative  <br/>\n",
    "> $A,B,C \\in \\F^{m \\times n} : A + (B + C) = (A + B) + C$ <br/>\n",
    "\n",
    "Axiom 3. Identity <br/>\n",
    "> $A \\in \\F^{m \\times n} : A + 0 = 0 + A = A$ <br/>\n",
    "\n",
    "Axiom 4. Inverse <br/> \n",
    "> $A \\in \\F^{m \\times n} : A + (-A) = (-A) + A = 0$\n",
    "\n",
    "### Matrix Vector Spaces \n",
    "> The above definitions of Scalar Multiplication, and Matrix Addition shows that Matrices are a Vector Space $(\\M^{m \\times n}, \\F)$. Also note then that elements can be Real $(\\R^{m \\times n}, \\F)$ or Complex $(\\C^{m \\times n}, \\F)$.\n",
    "\n",
    "### Matrix Multiplication (M$\\cdot$)\n",
    "$A \\in \\F^{m \\times n}, B \\in \\F^{n \\times p}, C \\in \\F^{m \\times p}$ <br/>\n",
    "$A\\cdot B=C$\n",
    "> $\\begin{pmatrix} \n",
    "a_{11} &a_{12} &a_{13} \\\\\n",
    "a_{21} &a_{22} &a_{23} \\\\\n",
    "a_{31} &a_{32} &a_{33} \\\\\n",
    "\\end{pmatrix} \\times \n",
    "\\begin{pmatrix} \n",
    "b_{11} &b_{12} &b_{13} \\\\\n",
    "b_{21} &b_{22} &b_{23} \\\\\n",
    "b_{31} &b_{32} &b_{33} \\\\\n",
    "\\end{pmatrix} = \n",
    "\\ims\\begin{pmatrix} \n",
    "a_{11}b_{11} + a_{12}b_{21} + a_{13}b_{31} &a_{11}b_{12} + a_{12}b_{22} + a_{13}b_{32} &a_{11}b_{13} + a_{12}b_{23} + a_{13}b_{33} \\\\\n",
    "a_{21}b_{11} + a_{22}b_{21} + a_{23}b_{31} &a_{21}b_{12} + a_{22}b_{22} + a_{23}b_{32} &a_{21}b_{13} + a_{22}b_{23} + a_{23}b_{33} \\\\\n",
    "a_{31}b_{11} + a_{22}b_{21} + a_{23}b_{31} &a_{21}b_{12} + a_{22}b_{22} + a_{23}b_{32} &a_{21}b_{13} + a_{22}b_{23} + a_{33}b_{33} \\\\\n",
    "\\end{pmatrix}\n",
    "$ <br/>\n",
    "\n",
    "> $\\msi c_{ij} = a_{i1}b_{1j} + \\dots + a_{im}{m_j} = \\sum\\limits_{k=1}^m a_{ik}b_{kj}$\n",
    "\n",
    "#### Non-Commutative\n",
    "\n",
    "Matrix Multiplication is non commutative, but some circumstances it can be. <br/>\n",
    "> $A \\in \\F^{m \\times n}, B \\in \\F^{n \\times p}$ <br/>\n",
    "> - $A\\cdot B \\not\\implies B\\cdot A $ is defined (i.e. incompatible shapes). <br/>\n",
    "> - $A\\cdot B \\not\\implies A\\cdot B = B\\cdot A$ <br/>\n",
    "> - $\\exists A\\cdot B : A\\cdot B = B\\cdot A$ <br/>\n",
    "> &#x2003; *i.e.* $A = \\begin{pmatrix} \n",
    "1 &1 \\\\\n",
    "1 &1 \\\\\n",
    "\\end{pmatrix}, B =\n",
    "\\begin{pmatrix} \n",
    "1 &-1 \\\\\n",
    "-1 &1 \\\\\n",
    "\\end{pmatrix} : AB = BA = 0$\n",
    "\n",
    "#### Axioms\n",
    "\n",
    "Axiom 1. Associative  <br/>\n",
    "> $A(BC) = (AB)C$ <br/>\n",
    "\n",
    "Axiom 2. Distributive (Left & Right)<br/>\n",
    "> $A(B\\pm C) = AB \\pm AC$ <br/>\n",
    "> $(B\\pm C)A = BA \\pm CA$ <br/>\n",
    "\n",
    "Axiom 3. Identity (Left & Right)<br/>\n",
    "> $IA = A$ <br/>\n",
    "> $AI = A$ <br/>\n",
    "\n",
    "Axiom 4. Associative over Scalar Multiplication? <br/> \n",
    "> $k \\in \\F$ <br/>\n",
    "> $k(AB) = k(A)B = A(kB)$\n",
    "\n",
    "Axiom 5. Zero Multiplication\n",
    "> $A0 = 0$ and $0B = 0$\n",
    "\n",
    "#### Square Matrix Multiplication Properties \n",
    "\n",
    "> $A \\in \\F^{n \\times n} (\\text{ or simply } \\F^n)$ <br/>\n",
    "\n",
    "Powers & Multiplication Associativity\n",
    "> $AA = A^2$ <br/>\n",
    "> $AA \\dots A = A^{m-1}A = A^m$ <br/>\n",
    "> $m,p \\in \\Z^+ : A^mA^p = A^{m+p}$ <br/>\n",
    "\n",
    "Identity\n",
    "> $A^0 = I$ <br/>\n",
    "\n",
    "Diagonal / Triangular\n",
    "> $A \\text{ is diagonal } \\implies A^m \\text{ is diagonal }$ <br/>\n",
    "> $A \\text{ is upper triangular } \\implies A^m \\text{ is upper triangular }$ <br/>\n",
    "> $A \\text{ is lower triangular } \\implies A^m \\text{ is lower triangular }$ <br/>\n",
    "\n",
    "### Matrix Transposition ($M^t$)\n",
    "\n",
    "A transposed matrix A ($A^t$) pivots the components on matrix A through the diagonal. <br/>\n",
    "> $A = A(a_{ij}) : A^t = A(a_{ji})$<br/>\n",
    "> $A \\in \\F^{m \\times n} \\implies A^t \\in \\F^{n \\times m}$ <br/>\n",
    ">\n",
    "> $\\begin{pmatrix} \n",
    "a_{11} &a_{12} &a_{13} \\\\\n",
    "a_{21} &a_{22} &a_{23} \\\\\n",
    "\\end{pmatrix}^t = \n",
    "\\begin{pmatrix} \n",
    "a_{11} &a_{21}\\\\\n",
    "a_{12} &a_{22}\\\\\n",
    "a_{13} &a_{23}\\\\\n",
    "\\end{pmatrix}$\n",
    "\n",
    "#### Axioms\n",
    "\n",
    "> $A,B \\in \\M^{m \\times n}$ <br/>\n",
    "> $C \\in \\M^{n \\times p}$ <br/>\n",
    "> $c \\in \\F$\n",
    "\n",
    "Axiom 1. \n",
    "> $(A+B)^t = A^t + B^t$\n",
    "\n",
    "Axiom 2. \n",
    "> $(cA)^t = cA^t$\n",
    "\n",
    "Axiom 3. \n",
    "> $(A^t)^t = A$\n",
    "\n",
    "Axiom 4.\n",
    "> $(AC)^t = B^tA^t$ (note - reversed order)\n",
    "\n",
    "#### Square Matrix Transposition Properties\n",
    "\n",
    "> $A$ is symmetric $\\iff A = A^t$\n",
    "\n",
    "> if $A$ is symmetric, then $A^t$ is symmetric too\n",
    "\n",
    "> $A$ is skew symmetric $\\iff A = -A^t$\n",
    "\n",
    "> if $A$ is skew symmetric, then $-A^t$ is skew symmetric too\n",
    "\n",
    "### Matrix *trace*\n",
    "\n",
    "The trace of a Matrix ( $tr(A)$ ) is the sum of diagonal elements <br/>\n",
    "> $\\msi tr(A) = a_{11} + a_{22} + \\dots + a_{nn} = \\sum\\limits_{i=1}^n a_{nn}$\n",
    "\n",
    "#### Axioms\n",
    "(for square matrices)\n",
    "\n",
    "> $A,B \\in \\M^{n \\times n}$ <br/>\n",
    "> $c \\in \\F$\n",
    "\n",
    "Axiom 1. \n",
    "> $tr(A + B) = tr(A) + tr(B)$\n",
    "\n",
    "Axiom 2. \n",
    "> $tr(A) = tr(A^t)$\n",
    "\n",
    "Axiom 3. \n",
    "> $(tr(cA) = c\\cdot tr(A)$\n",
    "\n",
    "Axiom 4.\n",
    "> $(AB) = tr(BA)$\n"
   ]
  },
  {
   "cell_type": "markdown",
   "metadata": {},
   "source": [
    "----\n",
    "\n",
    "## Matrix Types\n",
    "\n",
    "### $m \\times n$ Matrix Types\n",
    "\n",
    "#### Row Matrix\n",
    "\n",
    "An $n$ *elements* from a field $\\F$ with, 1 row, and $n$ columns is a \"row matrix\", or \"row vector\"\n",
    "Example: <br/>\n",
    "> $A = \\begin{pmatrix} \n",
    "a_{11} &a_{12} &\\dots &a_{1j} &\\dots &a_{1n} \n",
    "\\end{pmatrix}$\n",
    "\n",
    "#### Column Matrix\n",
    "\n",
    "An $m$ *elements* from a field $\\F$ with, $m$ rows, and 1 column is \"column matrix\", or \"column vector\" <br/>\n",
    "Example: (vertical m-tuples) <br/>\n",
    "> $a^j = \\begin{pmatrix} \n",
    "a_{1j} \\\\\n",
    "a_{2j} \\\\\n",
    "\\dots  \\\\\n",
    "a_{ij} \\\\\n",
    "\\dots  \\\\\n",
    "a_{mj} \\\\\n",
    "\\end{pmatrix}, j = 1, 2, ..., n$\n",
    "\n",
    "Example: (vertical, as a row)\n",
    "> $A = (a^1, a^2,...,a^n)$\n",
    "\n",
    "#### Null/Zero Matrix\n",
    "Matrix of order $m \\times n$, with elements $a_{ij} = 0$ <br/>\n",
    "Example: (Null Matrix of order $2 \\times 3$) <br/>\n",
    "> $I_3 = \\begin{pmatrix} \n",
    "0 &0 &0 \\\\\n",
    "0 &0 &0 \\\\\n",
    "\\end{pmatrix}$<br/>"
   ]
  },
  {
   "cell_type": "markdown",
   "metadata": {},
   "source": [
    "\n",
    "### Square Matrix Types\n",
    "\n",
    "#### Square Matrix \n",
    "Square Matrix of order $n$, with elements $a_{ii}, i=1,...,n$ <br/>\n",
    "Example: (of order 3) <br/>\n",
    "> $A = \\begin{pmatrix} \n",
    "1 &2 &3 \\\\\n",
    "4 &5 &6 \\\\\n",
    "7 &8 &9 \\\\\n",
    "\\end{pmatrix}$<br/>\n",
    "\n",
    "Leading/Principal Diagonal elements of A\n",
    "> 1, 5, 9\n",
    "\n",
    "Off-Diagonal elements \n",
    "> 2, 3, 4, 6, 7, 8\n",
    "\n",
    "#### Diagonal Matrix\n",
    "Square Matrix of order $n$, with elements $a_{ij} =0, |i-j| \\geq 1$ <br/>\n",
    "Example: <br/>\n",
    "> $A = \\begin{pmatrix} \n",
    "1 &0 &0 \\\\\n",
    "0 &5 &0 \\\\\n",
    "0 &0 &9 \\\\\n",
    "\\end{pmatrix}$<br/>\n",
    "\n",
    "#### Unit/Identity Matrix\n",
    "Square Matrix of order $n$, with elements $a_{ij} = 0, |i-j| = 1$ <br/>\n",
    "Example: (Identity Matrix of order 3) <br/>\n",
    "> $A = \\begin{pmatrix} \n",
    "1 &0 &0 \\\\\n",
    "0 &1 &0 \\\\\n",
    "0 &0 &1 \\\\\n",
    "\\end{pmatrix}$\n",
    "\n",
    "#### Symmetric Matrix\n",
    "Square Matrix of order $n$, with elements $a_{ij} = a_{ji}$ <br/>\n",
    "Example:  <br/>\n",
    "> $A = \\begin{pmatrix} \n",
    "1 &2 &3 \\\\\n",
    "2 &5 &4 \\\\\n",
    "3 &4 &9 \\\\\n",
    "\\end{pmatrix}$\n",
    "\n",
    "#### Skew-Symmetric Matrix\n",
    "Square Matrix of order $n$, with elements $a_{ij} = a_{ji}$ <br/>\n",
    "Example:  <br/>\n",
    "> $A = \\begin{pmatrix} \n",
    "0 &-2 &3 \\\\\n",
    "2 &0 &-4 \\\\\n",
    "-3 &4 &0 \\\\\n",
    "\\end{pmatrix}$\n",
    "\n",
    "#### Upper-Triangular Matrix\n",
    "Square Matrix of order $n$, with elements $a_{ij} = 0, i > j$ <br/>\n",
    "Example:  <br/>\n",
    "> $A = \\begin{pmatrix} \n",
    "a &b &c \\\\\n",
    "0 &e &f \\\\\n",
    "0 &0 &i \\\\\n",
    "\\end{pmatrix}$\n",
    "\n",
    "#### Lower-Triangular Matrix\n",
    "Square Matrix of order $n$, with elements $a_{ij} = 0, i < j$ <br/>\n",
    "Example:  <br/>\n",
    "> $A = \\begin{pmatrix} \n",
    "a &0 &0 \\\\\n",
    "d &e &0 \\\\\n",
    "g &h &i \\\\\n",
    "\\end{pmatrix}$\n",
    "\n",
    "> $A$ is a diagonal matrix $\\iff$ A is both an Upper-Triangular and Lower-Triangular matrix."
   ]
  },
  {
   "cell_type": "markdown",
   "metadata": {},
   "source": [
    "----\n",
    "\n",
    "## Partitioned Matrix\n",
    "\n",
    "A Matrix can be partitioned into 'blocks' or 'cells'.<br/>\n",
    "\n",
    "### Example\n",
    "\n",
    "> $A = \\begin{pmatrix}\n",
    "1 &0 &7 &3 &4 \\\\ \n",
    "3 &5 &7 &1 &0 \\\\ \n",
    "0 &4 &3 &2 &7 \\\\ \n",
    "6 &3 &9 &0 &7 \\\\ \n",
    "\\end{pmatrix}$\n",
    "\n",
    "Can be partitioned as\n",
    "> $\\left(\\begin{array}{cc|ccc}\n",
    "1 &0 &7 &3 &4 \\\\ \n",
    "3 &5 &7 &1 &0 \\\\ \n",
    "\\hline \n",
    "0 &4 &3 &2 &7 \\\\ \n",
    "6 &3 &9 &0 &7 \\\\ \n",
    "\\end{array}\\right) = \\begin{pmatrix}\n",
    "A_{11} &A_{12} \\\\ \n",
    "A_{21} &A_{22} \\\\ \n",
    "\\end{pmatrix}$\n",
    "\n",
    "Or even\n",
    "> $\\left(\\begin{array}{c|cc|cc}\n",
    "1 &0 &7 &3 &4 \\\\ \n",
    "\\hline\n",
    "3 &5 &7 &1 &0 \\\\  \n",
    "0 &4 &3 &2 &7 \\\\ \n",
    "\\hline\n",
    "6 &3 &9 &0 &7 \\\\ \n",
    "\\end{array}\\right) = \\begin{pmatrix}\n",
    "A_{11} &A_{12} &A_{13} \\\\ \n",
    "A_{21} &A_{22} &A_{23} \\\\ \n",
    "A_{31} &A_{32} &A_{33} \\\\ \n",
    "\\end{pmatrix}$\n",
    "\n",
    "### Composition of Partitions\n",
    "If \n",
    "> $A = (A_{ij})_{r\\times s}$ <br/>\n",
    "> $B = (B_{ij})_{s\\times t}$  <br/>\n",
    "\n",
    "and the blocks are conformable\n",
    "> $A_{ij} , B_{ij}$ <br/>\n",
    "\n",
    "then\n",
    "> $AB = (C_{ij})_{r \\times t}$ <br/>\n",
    "\n",
    "where\n",
    "> $\\msi C_{ij} = \\sum\\limits_{k=1}^s A_{ik}B_{kj} $.\n",
    "\n",
    "*In partitioned matrices the blocks can be treated as numbers so that the basic operations between matrices (with blocks of correct orders) can be performed.*"
   ]
  },
  {
   "cell_type": "markdown",
   "metadata": {},
   "source": [
    "----\n",
    "\n",
    "## Problems\n",
    "\n",
    "#### 2.1. Express the following matrix as a sum of a lower triangular matrix and an upper triangular matrix with zero leading diagonal"
   ]
  },
  {
   "cell_type": "code",
   "execution_count": 6,
   "metadata": {},
   "outputs": [
    {
     "data": {
      "text/latex": [
       "$$A = \\begin{pmatrix}1&3&5\\\\2&4&7\\\\6&-5&9\\\\\\end{pmatrix}$$"
      ],
      "text/plain": [
       "<IPython.core.display.Math object>"
      ]
     },
     "metadata": {},
     "output_type": "display_data"
    }
   ],
   "source": [
    "a = np.matrix('1 3 5; 2 4 7; 6 -5 9', dtype=int)\n",
    "\n",
    "display(Math( f\"A = {np2lat(a)}\" ))"
   ]
  },
  {
   "cell_type": "code",
   "execution_count": 8,
   "metadata": {},
   "outputs": [
    {
     "data": {
      "text/latex": [
       "$$\\begin{pmatrix}0&3&5\\\\0&0&7\\\\0&0&0\\\\\\end{pmatrix} + \\begin{pmatrix}1&0&0\\\\2&4&0\\\\6&-5&9\\\\\\end{pmatrix} = \\begin{pmatrix}1&3&5\\\\2&4&7\\\\6&-5&9\\\\\\end{pmatrix}$$"
      ],
      "text/plain": [
       "<IPython.core.display.Math object>"
      ]
     },
     "metadata": {},
     "output_type": "display_data"
    }
   ],
   "source": [
    "b = np.matrix('0 3 5; 0 0 7; 0  0 0', dtype=int)\n",
    "c = np.matrix('1 0 0; 2 4 0; 6 -5 9', dtype=int)\n",
    "bplusc = np.add(b, c)\n",
    "\n",
    "display(Math( f\"{np2lat(b)} + {np2lat(c)} = {np2lat(bplusc)}\" ))"
   ]
  },
  {
   "cell_type": "markdown",
   "metadata": {},
   "source": [
    "----\n",
    "\n",
    "#### 2.2. Let $A = (a_{ij}), B = (b_{ij}), \\in \\M^{n\\times n}$ be upper triangular matrices. \n",
    "\n",
    "Show that AB is an upper triangular matrix with diagonal elements $a_{ii}b_{ii}, i =\n",
    "1, ... , n$\n",
    "\n",
    "*Answer:*\n",
    "> $\\begin{split}\n",
    "AB &= C = (c_{ij}) \\\\\n",
    "\\\\\n",
    "(c_{ij}) &= 0 \\text{ if } i > j \\text{ and }\\\\\n",
    "(c_{ij}) &= \\sum\\limits_{k=i}^j a_{ik}b_{kj} \\text{ if } j \\geq i \\\\\n",
    "\\end{split}$"
   ]
  },
  {
   "cell_type": "markdown",
   "metadata": {},
   "source": [
    "----\n",
    "\n",
    "#### 2.3. For the matrices"
   ]
  },
  {
   "cell_type": "code",
   "execution_count": 9,
   "metadata": {},
   "outputs": [
    {
     "data": {
      "text/latex": [
       "$$A = \\begin{pmatrix}-1&2&4\\\\3&6&5\\\\6&5&8\\\\\\end{pmatrix}, B = \\begin{pmatrix}3&-6&-5\\\\1&3&5\\\\3&5&7\\\\\\end{pmatrix}$$"
      ],
      "text/plain": [
       "<IPython.core.display.Math object>"
      ]
     },
     "metadata": {},
     "output_type": "display_data"
    }
   ],
   "source": [
    "a = np.matrix('-1 2 4; 3 6 5; 6 5 8', dtype=int)\n",
    "b = np.matrix('3 -6 -5; 1 3 5; 3 5 7', dtype=int)\n",
    "\n",
    "display(Math( f\"A = {np2lat(a)}, B = {np2lat(b)}\" ))"
   ]
  },
  {
   "cell_type": "markdown",
   "metadata": {},
   "source": [
    "Find \n",
    "1. $A + B$\n",
    "2. $A − B$ \n",
    "3. $2A + 3B$ \n",
    "- $3A − 4B$ \n",
    "- $AB$\n",
    "- $BA$\n",
    "- $A^2$ \n",
    "- $B^3$"
   ]
  },
  {
   "cell_type": "code",
   "execution_count": 18,
   "metadata": {},
   "outputs": [
    {
     "data": {
      "text/latex": [
       "$$1. A+B = \\begin{pmatrix}2&-4&-1\\\\4&9&10\\\\9&10&15\\\\\\end{pmatrix}  \\begin{pmatrix}2&-4&-1\\\\4&9&10\\\\9&10&15\\\\\\end{pmatrix}$$"
      ],
      "text/plain": [
       "<IPython.core.display.Math object>"
      ]
     },
     "metadata": {},
     "output_type": "display_data"
    },
    {
     "data": {
      "text/latex": [
       "$$2. A-B = \\begin{pmatrix}-4&8&9\\\\2&3&0\\\\3&0&1\\\\\\end{pmatrix}  \\begin{pmatrix}-4&8&9\\\\2&3&0\\\\3&0&1\\\\\\end{pmatrix}$$"
      ],
      "text/plain": [
       "<IPython.core.display.Math object>"
      ]
     },
     "metadata": {},
     "output_type": "display_data"
    },
    {
     "data": {
      "text/latex": [
       "$$3. 2A+3B = \\begin{pmatrix}7&-14&-7\\\\9&21&25\\\\21&25&37\\\\\\end{pmatrix}  \\begin{pmatrix}7&-14&-7\\\\9&21&25\\\\21&25&37\\\\\\end{pmatrix}$$"
      ],
      "text/plain": [
       "<IPython.core.display.Math object>"
      ]
     },
     "metadata": {},
     "output_type": "display_data"
    }
   ],
   "source": [
    "aplusb = np.matrix(f\"{-1+3} {2-6} {4-5}; {3+1} {6+3} {5+5}; {6+3} {5+5} {8+7}\", dtype=int)\n",
    "aminusb = np.matrix(f\"{-1-3} {2+6} {4+5}; {3-1} {6-3} {5-5}; {6-3} {5-5} {8-7}\", dtype=int)\n",
    "three = np.matrix(f\"{-2+9} {4-18} {8-15}; {6+3} {12+9} {10+15}; {12+9} {10+15} {16+21}\", dtype=int)\n",
    "\n",
    "display(Math( f\"1. A+B = {np2lat(aplusb)}  {np2lat(np.add(a, b))}\" ))\n",
    "display(Math( f\"2. A-B = {np2lat(aminusb)}  {np2lat(np.subtract(a, b))}\" ))\n",
    "display(Math( f\"3. 2A+3B = {np2lat(three)}  {np2lat(np.add(2 * a, 3 * b))}\" ))"
   ]
  },
  {
   "cell_type": "markdown",
   "metadata": {},
   "source": [
    "----\n",
    "\n",
    "#### 2.4. For the matrices"
   ]
  },
  {
   "cell_type": "code",
   "execution_count": 35,
   "metadata": {},
   "outputs": [
    {
     "data": {
      "text/latex": [
       "$$A = \\begin{pmatrix}2&-3&-5\\\\-1&4&5\\\\1&-3&-4\\\\\\end{pmatrix}, B = \\begin{pmatrix}-1&3&5\\\\1&-3&-5\\\\-1&3&5\\\\\\end{pmatrix}, C = \\begin{pmatrix}2&-2&-4\\\\-1&3&4\\\\1&-3&-4\\\\\\end{pmatrix}$$"
      ],
      "text/plain": [
       "<IPython.core.display.Math object>"
      ]
     },
     "metadata": {},
     "output_type": "display_data"
    }
   ],
   "source": [
    "a = np.matrix('2 -3 -5; -1 4 5; 1 -3 -4', dtype=int)\n",
    "b = np.matrix('-1 3 5; 1 -3 -5; -1 3 5', dtype=int)\n",
    "c = np.matrix('2 -2 -4; -1 3 4; 1 -3 -4', dtype=int)\n",
    "\n",
    "display(Math( f\"A = {np2lat(a)}, B = {np2lat(b)}, C = {np2lat(c)}\" ))"
   ]
  },
  {
   "cell_type": "markdown",
   "metadata": {},
   "source": [
    "Verify that \n",
    "> 1. $AB = BA = 0$, <br/>\n",
    "> 2. $AC \\not= A$, and  <br/>\n",
    "> 3. $CA = C$ <br/>"
   ]
  },
  {
   "cell_type": "code",
   "execution_count": 29,
   "metadata": {},
   "outputs": [
    {
     "data": {
      "text/latex": [
       "$$1. AB = \\begin{pmatrix}0&0&0\\\\0&0&0\\\\0&0&0\\\\\\end{pmatrix}, \\begin{pmatrix}0&0&0\\\\0&0&0\\\\0&0&0\\\\\\end{pmatrix}$$"
      ],
      "text/plain": [
       "<IPython.core.display.Math object>"
      ]
     },
     "metadata": {},
     "output_type": "display_data"
    },
    {
     "data": {
      "text/latex": [
       "$$  BA = \\begin{pmatrix}0&0&0\\\\0&0&0\\\\0&0&0\\\\\\end{pmatrix}, \\begin{pmatrix}0&0&0\\\\0&0&0\\\\0&0&0\\\\\\end{pmatrix}$$"
      ],
      "text/plain": [
       "<IPython.core.display.Math object>"
      ]
     },
     "metadata": {},
     "output_type": "display_data"
    }
   ],
   "source": [
    "atimesb_manual = np.matrix(f\"{-2 -3 +5} {6+9-15} {10+15-25};{1+4-5} {-3-12+15} {-5-20+25};{-1-3+4} {3+9-12} {5+15-20}\", dtype=int)\n",
    "btimesa_manual = np.matrix(f\"{-2 -3 +5} {3+12-15} {5+15-20};{2+3-5} {-3-12+15} {-5-15+20};{-2-3+5} {3+12-15} {5+15-20}\", dtype=int)\n",
    "atimesb = np.matmul(a,b)\n",
    "btimesa = np.matmul(b,a)\n",
    "display(Math( f\"1. AB = {np2lat(atimesb_manual)}, {np2lat(atimesb)}\" ))\n",
    "display(Math( f\"  BA = {np2lat(btimesa_manual)}, {np2lat(btimesa)}\" ))"
   ]
  },
  {
   "cell_type": "code",
   "execution_count": 36,
   "metadata": {},
   "outputs": [
    {
     "data": {
      "text/latex": [
       "$$2. AC = \\begin{pmatrix}2&2&0\\\\-1&-1&0\\\\1&1&0\\\\\\end{pmatrix} \\not= \\begin{pmatrix}2&-3&-5\\\\-1&4&5\\\\1&-3&-4\\\\\\end{pmatrix} (A)$$"
      ],
      "text/plain": [
       "<IPython.core.display.Math object>"
      ]
     },
     "metadata": {},
     "output_type": "display_data"
    },
    {
     "data": {
      "text/latex": [
       "$$3. CA = \\begin{pmatrix}2&-2&-4\\\\-1&3&4\\\\1&-3&-4\\\\\\end{pmatrix} = \\begin{pmatrix}2&-2&-4\\\\-1&3&4\\\\1&-3&-4\\\\\\end{pmatrix} (C)$$"
      ],
      "text/plain": [
       "<IPython.core.display.Math object>"
      ]
     },
     "metadata": {},
     "output_type": "display_data"
    }
   ],
   "source": [
    "atimesc = np.matmul(a,c)\n",
    "ctimesa = np.matmul(c,a)\n",
    "display(Math( f\"2. AC = {np2lat(atimesc)} \\\\not= {np2lat(a)} (A)\" ))\n",
    "display(Math( f\"3. CA = {np2lat(ctimesa)} = {np2lat(c)} (C)\" ))"
   ]
  },
  {
   "cell_type": "markdown",
   "metadata": {},
   "source": [
    "Interesting...\n",
    "\n",
    "Turns out a matrix can be multiplied by a matrix which produces itself, and another matrix that produces itself. Implies, not if and only if."
   ]
  },
  {
   "cell_type": "code",
   "execution_count": 43,
   "metadata": {},
   "outputs": [
    {
     "data": {
      "text/latex": [
       "$$C = \\begin{pmatrix}2&-2&-4\\\\-1&3&4\\\\1&-3&-4\\\\\\end{pmatrix}, I = \\begin{pmatrix}1&0&0\\\\0&1&0\\\\0&0&1\\\\\\end{pmatrix}, A = \\begin{pmatrix}2&-3&-5\\\\-1&4&5\\\\1&-3&-4\\\\\\end{pmatrix}$$"
      ],
      "text/plain": [
       "<IPython.core.display.Math object>"
      ]
     },
     "metadata": {},
     "output_type": "display_data"
    },
    {
     "data": {
      "text/latex": [
       "$$C = \\begin{pmatrix}2&-2&-4\\\\-1&3&4\\\\1&-3&-4\\\\\\end{pmatrix}, CI = \\begin{pmatrix}2&-2&-4\\\\-1&3&4\\\\1&-3&-4\\\\\\end{pmatrix}, CA = \\begin{pmatrix}2&-2&-4\\\\-1&3&4\\\\1&-3&-4\\\\\\end{pmatrix}$$"
      ],
      "text/plain": [
       "<IPython.core.display.Math object>"
      ]
     },
     "metadata": {},
     "output_type": "display_data"
    }
   ],
   "source": [
    "# Intersting - multiplying C with I, or A produces C\n",
    "i = npmatlib.identity(3, dtype=int)\n",
    "ctimesi = np.matmul(c,i)\n",
    "display(Math( f\"C = {np2lat(c)}, I = {np2lat(i)}, A = {np2lat(a)}\" ))\n",
    "display(Math( f\"C = {np2lat(c)}, CI = {np2lat(ctimesi)}, CA = {np2lat(ctimesa)}\" ))"
   ]
  },
  {
   "cell_type": "markdown",
   "metadata": {},
   "source": [
    "----\n",
    "\n",
    "#### 2.5. If $\n",
    "A = \\begin{pmatrix} \n",
    "\\cos \\theta & sin \\theta \\\\ \n",
    "-\\sin \\theta & cos \\theta \\\\ \n",
    "\\end{pmatrix},$\n",
    ">\n",
    "> $\n",
    "AA = A^2 = \\ims\\begin{pmatrix} \n",
    "\\cos\\theta\\cos\\theta + \\sin\\theta\\cdot-\\sin\\theta\n",
    "& \\sin\\theta\\cos\\theta + \\cos\\theta\\sin\\theta \\\\ \n",
    "-\\sin\\theta\\cos\\theta + \\cos\\theta\\cdot -\\sin\\theta\n",
    "& -\\sin\\theta\\sin\\theta + \\cos\\theta\\cos\\theta \\\\\n",
    "\\end{pmatrix} = \\begin{pmatrix} \n",
    "\\cos^2\\theta - \\sin^2\\theta & 2\\sin\\theta\\cos\\theta \\\\ \n",
    "-2\\sin\\theta\\cos\\theta  & \\cos^2\\theta -\\sin^2\\theta \\\\\n",
    "\\end{pmatrix}$ <br/>\n",
    ">\n",
    "> $A^n = \\begin{pmatrix} \n",
    "\\cos^n\\theta - \\sin^n\\theta & n\\sin\\theta\\cos\\theta \\\\ \n",
    "-n\\sin\\theta\\cos\\theta  & \\cos^n\\theta -\\sin^n\\theta \\\\\n",
    "\\end{pmatrix}$\n",
    ">\n",
    "*using identity - $\\sin n\\theta = n\\sin\\theta\\cos\\theta$*\n",
    "> $A^n = \\begin{pmatrix} \n",
    "\\cos^n\\theta - \\sin^n\\theta & \\sin n\\theta \\\\ \n",
    "-\\sin n\\theta  & \\cos^n\\theta -\\sin^n\\theta \\\\\n",
    "\\end{pmatrix}$\n",
    ">\n",
    "*and identity - $\\cos n\\theta = \\cos^n\\theta-\\sin^n\\theta$*\n",
    "> $A^n = \\begin{pmatrix} \n",
    "\\cos n\\theta & \\sin n\\theta \\\\ \n",
    "-\\sin n\\theta  & \\cos n\\theta \\\\\n",
    "\\end{pmatrix}$\n",
    ">"
   ]
  },
  {
   "cell_type": "markdown",
   "metadata": {},
   "source": [
    "----\n",
    "#### 2.6 \n",
    "\n",
    "a) Show that $(A+B)^2 = A^2 +2AB + B^2$\n",
    "*if and only if A & B commute*\n",
    "\n",
    "b) Show that $(A+B)(A-B) = A^2 - B^2$\n",
    "*if and only if A & B commute*\n",
    "\n",
    "a)\n",
    "$(A+B)^2 =$\n",
    "> $(A+B)(A+B) =$ <br>\n",
    "> $A^2+BA + AB + B^2 =$ <br>\n",
    "\n",
    "*if A and B have multiplicative commutativity $AB = BA$*\n",
    "> $A^2 + AB + AB + B^2 =$ <br>\n",
    "> $A^2 + 2AB + B^2$ <br>\n",
    "\n",
    "*if A and B do not have multiplicative commutativity $AB \\ne BA$*\n",
    "> $A^2 + AB + BA + B^2 \\ne$ <br>\n",
    "> $A^2 + 2AB + B^2$ <br>\n",
    "\n",
    "\n",
    "b)\n",
    "$(A+B)(A-B) =$\n",
    "> $(A+B)(A-B) =$ <br>\n",
    "> $A^2 + BA - AB - B^2 =$ <br>\n",
    "\n",
    "*if A and B have multiplicative commutativity $AB = BA$*\n",
    "> $A^2 + AB - AB - B^2 =$ <br>\n",
    "> $A^2 - B^2$ <br>\n",
    "\n",
    "*if A and B do not have multiplicative commutativity $AB \\ne BA$*\n",
    "> $A^2 + AB - BA - B^2 \\ne$ <br>\n",
    "> $A^2 - B^2$ <br>"
   ]
  },
  {
   "cell_type": "markdown",
   "metadata": {},
   "source": [
    "----\n",
    "\n",
    "#### 2.7 Consider the set $\\R^{2\\times 2}$ with the addition as usual, but the scalar multiplication as follows:\n",
    "    \n",
    "$k\\begin{pmatrix} a &b \\\\ c &d \\end{pmatrix}= \\begin{pmatrix} ka &0 \\\\ 0 &kd \\end{pmatrix}$\n",
    "\n",
    "Show that $(\\R^{2\\times 2}, \\R)$ is not a vector space.<br/>\n",
    "\n",
    "A)\n",
    "We should expect the scalar multiplication identity axiom that $1.A = A$\n",
    "> Consider $A = \\begin{pmatrix} 1 &1 \\\\ 1 &1 \\end{pmatrix}$ <br/>\n",
    "> Then $1.A = \\begin{pmatrix} 1 &0 \\\\ 0 &1 \\end{pmatrix} \\ne A \\implies$ contradiction. <br/>\n",
    "> $\\therefore (\\R^{2\\times 2}, \\R)$ is not a vector space.\n",
    "\n",
    "\n"
   ]
  },
  {
   "cell_type": "code",
   "execution_count": null,
   "metadata": {},
   "outputs": [],
   "source": []
  }
 ],
 "metadata": {
  "kernelspec": {
   "display_name": "Python 3",
   "language": "python",
   "name": "python3"
  },
  "language_info": {
   "codemirror_mode": {
    "name": "ipython",
    "version": 3
   },
   "file_extension": ".py",
   "mimetype": "text/x-python",
   "name": "python",
   "nbconvert_exporter": "python",
   "pygments_lexer": "ipython3",
   "version": "3.6.6"
  }
 },
 "nbformat": 4,
 "nbformat_minor": 2
}
