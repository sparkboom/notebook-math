{
 "cells": [
  {
   "cell_type": "code",
   "execution_count": 3,
   "metadata": {},
   "outputs": [],
   "source": [
    "import numpy as np\n",
    "from scipy import stats\n",
    "import matplotlib.pyplot as plt\n",
    "import pandas as pd"
   ]
  },
  {
   "cell_type": "markdown",
   "metadata": {},
   "source": [
    "# Data Visualization\n",
    "\n",
    "Types of data\n",
    "- Quantitative Data - *Quantities - number that have both order and spacing*\n",
    "\n",
    "- Categorical Data - *No meaningful order or spacing*\n",
    "> Types of visualization\n",
    "> - Frequency Table |category|frequency| \n",
    "> - Relative Frequency Table |category|relative frequency| (frequency total is 100% or 1.000\n",
    "> - Multiple values | frequency of option 1 | frequency of option 2| etc...\n",
    "> - Barchart - compare visually, stack variables, or put next to each other\n",
    "> - Pie Charts - difficult to display more than 1 vaiaable\n",
    "> - Pictographs - compare using # of images, or size of image\n",
    "\n",
    "\n",
    "- Binning\n",
    "- Take quantitative data and bins it into categories that are either pre-existing or made-up\n",
    "- \n",
    "\n",
    "----\n",
    "\n",
    "## References\n",
    "\n",
    "- [Youtube > CrashCourse > Statistics > Visualization Part I][1]\n",
    "- [Youtube > CrashCourse > Statistics > Visualization Part II][2]\n",
    "\n",
    " [1]: https://www.youtube.com/watch?v=hEWY6kkBdpo&index=6&list=PL8dPuuaLjXtNM_Y-bUAhblSAdWRnmBUcr\n",
    " "
   ]
  },
  {
   "cell_type": "markdown",
   "metadata": {},
   "source": [
    "----\n",
    "\n",
    "## Frequency Table"
   ]
  },
  {
   "cell_type": "code",
   "execution_count": null,
   "metadata": {},
   "outputs": [],
   "source": [
    "data = [\n",
    "    {'Name':'Mark', 'Color':'Blue', 'Shape':'Square'},\n",
    "    {'Name':'Tom', 'Color':'Green', 'Shape':'Circle'},\n",
    "    {'Name':'Debs', 'Color':'Red', 'Shape':'Star'},\n",
    "    {'Name':'Simon', 'Color':'Orange', 'Shape':'Circle'},\n",
    "    {'Name':'Theo', 'Color':'Red', 'Shape':'Star'},\n",
    "    {'Name':'Claire', 'Color':'Blue', 'Shape':'Star'},\n",
    "    {'Name':'Sheila', 'Color':'Green', 'Shape':'Triangle'},\n",
    "    {'Name':'Louise', 'Color':'Green', 'Shape':'Star'},\n",
    "    {'Name':'Nick', 'Color':'Green', 'Shape':'Square'},\n",
    "    {'Name':'Will', 'Color':'Yellow', 'Shape':'Circle'}]\n",
    "df = pd.DataFrame(data)"
   ]
  },
  {
   "cell_type": "code",
   "execution_count": 14,
   "metadata": {},
   "outputs": [
    {
     "data": {
      "text/html": [
       "<div>\n",
       "<style scoped>\n",
       "    .dataframe tbody tr th:only-of-type {\n",
       "        vertical-align: middle;\n",
       "    }\n",
       "\n",
       "    .dataframe tbody tr th {\n",
       "        vertical-align: top;\n",
       "    }\n",
       "\n",
       "    .dataframe thead th {\n",
       "        text-align: right;\n",
       "    }\n",
       "</style>\n",
       "<table border=\"1\" class=\"dataframe\">\n",
       "  <thead>\n",
       "    <tr style=\"text-align: right;\">\n",
       "      <th></th>\n",
       "      <th>Color Value</th>\n",
       "      <th>Count</th>\n",
       "    </tr>\n",
       "  </thead>\n",
       "  <tbody>\n",
       "    <tr>\n",
       "      <th>0</th>\n",
       "      <td>Blue</td>\n",
       "      <td>2</td>\n",
       "    </tr>\n",
       "    <tr>\n",
       "      <th>1</th>\n",
       "      <td>Green</td>\n",
       "      <td>4</td>\n",
       "    </tr>\n",
       "    <tr>\n",
       "      <th>2</th>\n",
       "      <td>Orange</td>\n",
       "      <td>1</td>\n",
       "    </tr>\n",
       "    <tr>\n",
       "      <th>3</th>\n",
       "      <td>Red</td>\n",
       "      <td>2</td>\n",
       "    </tr>\n",
       "    <tr>\n",
       "      <th>4</th>\n",
       "      <td>Yellow</td>\n",
       "      <td>1</td>\n",
       "    </tr>\n",
       "  </tbody>\n",
       "</table>\n",
       "</div>"
      ],
      "text/plain": [
       "  Color Value  Count\n",
       "0        Blue      2\n",
       "1       Green      4\n",
       "2      Orange      1\n",
       "3         Red      2\n",
       "4      Yellow      1"
      ]
     },
     "metadata": {},
     "output_type": "display_data"
    },
    {
     "data": {
      "text/html": [
       "<div>\n",
       "<style scoped>\n",
       "    .dataframe tbody tr th:only-of-type {\n",
       "        vertical-align: middle;\n",
       "    }\n",
       "\n",
       "    .dataframe tbody tr th {\n",
       "        vertical-align: top;\n",
       "    }\n",
       "\n",
       "    .dataframe thead th {\n",
       "        text-align: right;\n",
       "    }\n",
       "</style>\n",
       "<table border=\"1\" class=\"dataframe\">\n",
       "  <thead>\n",
       "    <tr style=\"text-align: right;\">\n",
       "      <th></th>\n",
       "      <th>Shape Value</th>\n",
       "      <th>Count</th>\n",
       "    </tr>\n",
       "  </thead>\n",
       "  <tbody>\n",
       "    <tr>\n",
       "      <th>0</th>\n",
       "      <td>Circle</td>\n",
       "      <td>3</td>\n",
       "    </tr>\n",
       "    <tr>\n",
       "      <th>1</th>\n",
       "      <td>Square</td>\n",
       "      <td>2</td>\n",
       "    </tr>\n",
       "    <tr>\n",
       "      <th>2</th>\n",
       "      <td>Star</td>\n",
       "      <td>4</td>\n",
       "    </tr>\n",
       "    <tr>\n",
       "      <th>3</th>\n",
       "      <td>Triangle</td>\n",
       "      <td>1</td>\n",
       "    </tr>\n",
       "  </tbody>\n",
       "</table>\n",
       "</div>"
      ],
      "text/plain": [
       "  Shape Value  Count\n",
       "0      Circle      3\n",
       "1      Square      2\n",
       "2        Star      4\n",
       "3    Triangle      1"
      ]
     },
     "metadata": {},
     "output_type": "display_data"
    }
   ],
   "source": [
    "freq_color_tbl = df.groupby('Color').size().reset_index(name='Count').rename(columns={'Color':'Color Value'})\n",
    "freq_shape_tbl = df.groupby('Shape').size().reset_index(name='Count').rename(columns={'Shape':'Shape Value'})\n",
    "display(freq_color_tbl)\n",
    "display(freq_shape_tbl)"
   ]
  },
  {
   "cell_type": "code",
   "execution_count": 26,
   "metadata": {},
   "outputs": [
    {
     "data": {
      "text/html": [
       "<div>\n",
       "<style scoped>\n",
       "    .dataframe tbody tr th:only-of-type {\n",
       "        vertical-align: middle;\n",
       "    }\n",
       "\n",
       "    .dataframe tbody tr th {\n",
       "        vertical-align: top;\n",
       "    }\n",
       "\n",
       "    .dataframe thead th {\n",
       "        text-align: right;\n",
       "    }\n",
       "</style>\n",
       "<table border=\"1\" class=\"dataframe\">\n",
       "  <thead>\n",
       "    <tr style=\"text-align: right;\">\n",
       "      <th>col_0</th>\n",
       "      <th>Count</th>\n",
       "    </tr>\n",
       "    <tr>\n",
       "      <th>Color</th>\n",
       "      <th></th>\n",
       "    </tr>\n",
       "  </thead>\n",
       "  <tbody>\n",
       "    <tr>\n",
       "      <th>Blue</th>\n",
       "      <td>2</td>\n",
       "    </tr>\n",
       "    <tr>\n",
       "      <th>Green</th>\n",
       "      <td>4</td>\n",
       "    </tr>\n",
       "    <tr>\n",
       "      <th>Orange</th>\n",
       "      <td>1</td>\n",
       "    </tr>\n",
       "    <tr>\n",
       "      <th>Red</th>\n",
       "      <td>2</td>\n",
       "    </tr>\n",
       "    <tr>\n",
       "      <th>Yellow</th>\n",
       "      <td>1</td>\n",
       "    </tr>\n",
       "  </tbody>\n",
       "</table>\n",
       "</div>"
      ],
      "text/plain": [
       "col_0   Count\n",
       "Color        \n",
       "Blue        2\n",
       "Green       4\n",
       "Orange      1\n",
       "Red         2\n",
       "Yellow      1"
      ]
     },
     "execution_count": 26,
     "metadata": {},
     "output_type": "execute_result"
    }
   ],
   "source": [
    "freq_color_xtbl = pd.crosstab(df['Color'], columns='Count') #.rename(columns={'col_0':'Color Value'})\n",
    "freq_color_xtbl.columns.rename('Color Value')\n",
    "freq_color_xtbl"
   ]
  },
  {
   "cell_type": "code",
   "execution_count": 87,
   "metadata": {},
   "outputs": [
    {
     "data": {
      "image/png": "[encoded data removed]",
      "text/plain": [
       "<Figure size 1008x432 with 1 Axes>"
      ]
     },
     "metadata": {},
     "output_type": "display_data"
    }
   ],
   "source": [
    "# Regression Line, equation, correlation coefficient?\n",
    "\n",
    "# Generate random variables\n",
    "M = 0.3\n",
    "C = 3.0\n",
    "x = np.random.uniform(size=1200) * 20\n",
    "y = 10.0 + np.random.normal(scale=0.8, size=1200)\n",
    "y = y+(x*M-C)\n",
    "\n",
    "# get midpoint\n",
    "x_mean = x.sum() / x.size\n",
    "y_mean = y.sum() / y.size\n",
    "\n",
    "# get slope\n",
    "dx = np.sum(np.abs(x - x_mean)) / x.size\n",
    "dy = np.sum(np.abs(y - y_mean)) / y.size\n",
    "slope = (dy/dx)\n",
    "\n",
    "# Calculate intercept\n",
    "intercept = y_mean - slope*x_mean\n",
    "\n",
    "# Alternatively, the easy way\n",
    "slope2, intercept2 = np.polyfit(x, y, 1)\n",
    "\n",
    "# build ab line\n",
    "abline_x = np.linspace(0,20.0,20)\n",
    "abline_values = [slope * i + intercept for i in abline_x]\n",
    "abline_values2 = [slope2 * i + intercept2 for i in abline_x]\n",
    "\n",
    "plt.figure(figsize=(14,6))\n",
    "plt.margins(0,0)\n",
    "plt.title('')\n",
    "plt.scatter(x, y, color='slateblue', s=1, lw=1, alpha=0.3, label='distribution')\n",
    "plt.plot(x_mean, y_mean, color='red', lw=1, alpha=1, marker='o', label='arithmetic mean x={:0.2f}, y={:0.2f}'.format(x_mean, y_mean))\n",
    "plt.plot(abline_x, abline_values, color='orangered', lw=1, alpha=0.8, dashes =(6,6), label='Manual Regression Line')\n",
    "plt.plot(abline_x, abline_values2, color='goldenrod', lw=1, alpha=0.8, dashes =(6,6), label='Regression Line using np.polyfit')\n",
    "plt.xlim((0,20.0))\n",
    "plt.ylim((0,15.0))\n",
    "plt.legend()\n",
    "plt.show()\n"
   ]
  },
  {
   "cell_type": "code",
   "execution_count": null,
   "metadata": {},
   "outputs": [],
   "source": []
  }
 ],
 "metadata": {
  "kernelspec": {
   "display_name": "Python 3",
   "language": "python",
   "name": "python3"
  },
  "language_info": {
   "codemirror_mode": {
    "name": "ipython",
    "version": 3
   },
   "file_extension": ".py",
   "mimetype": "text/x-python",
   "name": "python",
   "nbconvert_exporter": "python",
   "pygments_lexer": "ipython3",
   "version": "3.6.5"
  }
 },
 "nbformat": 4,
 "nbformat_minor": 2
}
