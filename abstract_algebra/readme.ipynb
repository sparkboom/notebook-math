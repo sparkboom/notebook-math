{
 "cells": [
  {
   "cell_type": "markdown",
   "metadata": {},
   "source": [
    "# Read Me\n",
    "\n",
    "The content for this has been derived by\n",
    "\n",
    "Series\n",
    "- [Youtube > Socratica > Abstract Algebra][1]\n",
    "- [Youtube > scalenscott > Modern (Abstract) Algebra][2]\n",
    "\n",
    "Topics\n",
    "- Groups & Subgroups\n",
    "- Permutations\n",
    "- Orbits & Cycles\n",
    "- Cosets & Lagrange's Theorem\n",
    "- Groups\n",
    "  - Dihedral\n",
    "  - Symmetric\n",
    "  - Cyclic\n",
    "  - Matrix\n",
    "  - Simple\n",
    "- Direct Products\n",
    "- Group Homomorphisms\n",
    "- Isomorphisms\n",
    "- Kernel of a Group Homomorphism\n",
    "- Factor (Quotient) Groups\n",
    "- Rings \n",
    "- Fields\n",
    "- Vector Space\n",
    "- Modules\n",
    "- Integral Domains\n",
    "\n",
    " [1]: https://www.youtube.com/playlist?list=PL91534186D7BE336B\n",
    " [2]: https://www.youtube.com/playlist?list=PLi01XoE8jYoi3SgnnGorR_XOW3IcK-TP6\n"
   ]
  },
  {
   "cell_type": "code",
   "execution_count": null,
   "metadata": {},
   "outputs": [],
   "source": []
  }
 ],
 "metadata": {
  "kernelspec": {
   "display_name": "Python 3",
   "language": "python",
   "name": "python3"
  },
  "language_info": {
   "codemirror_mode": {
    "name": "ipython",
    "version": 3
   },
   "file_extension": ".py",
   "mimetype": "text/x-python",
   "name": "python",
   "nbconvert_exporter": "python",
   "pygments_lexer": "ipython3",
   "version": "3.6.5"
  }
 },
 "nbformat": 4,
 "nbformat_minor": 2
}
