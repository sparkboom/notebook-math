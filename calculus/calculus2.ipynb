{
 "cells": [
  {
   "cell_type": "markdown",
   "metadata": {},
   "source": [
    "#### Example $\\int x^2.e^{3x}.dx$\n",
    "(from http://www.mathcentre.ac.uk/resources/uploaded/mc-ty-parts-2009-1.pdf)\n",
    "\n",
    "$\\ds \\begin{equation} \\label{eq3}\n",
    "\\begin{split}\n",
    "\\text{using formula} \\\\\n",
    "\\int u.\\frac{d(v)}{dx} & = u.v - \\int v.\\frac{d(u)}{dx} dx \\\\\n",
    "\\text{we assign} \\\\\n",
    "u & = x^2 \\\\\n",
    "\\frac{dv}{dx} & = e^{3x} \\\\\n",
    "\\text{we calculate} \\\\\n",
    "v & = \\int \\frac{dv}{dx} dx = \\int e^{3x} dx = \\frac{1}{3}e^{3x} \\\\\n",
    "\\frac{du}{dx} & = \\frac{d(x^2)}{dx} = 2x \\\\\n",
    "\\text{then apply to formula} \\\\\n",
    "\\int x^2e^{3x} & = x^2\\frac{e^{3x}}{3} - \\int \\frac{e^{3x}}{3}2x dx \\\\\n",
    "& = \\frac{1}{3}x^2e^{3x} - \\int \\frac{2}{3}xe^{3x} dx \\\\\n",
    "\\\\\n",
    "\\text{using formula again} \\\\\n",
    "\\int u.\\frac{d(v)}{dx} & = u.v - \\int v.\\frac{d(u)}{dx} dx \\\\\n",
    "\\text{we assign} \\\\\n",
    "u & = \\frac{2}{3}x \\\\\n",
    "\\frac{dv}{dx} & = e^{3x} \\\\\n",
    "\\text{we calculate} \\\\\n",
    "v & = \\int \\frac{dv}{dx} dx = \\int e^{3x} dx = \\frac{1}{3}e^{3x} \\\\\n",
    "\\frac{du}{dx} & = \\frac{d(\\frac{2}{3}x)}{dx} = \\frac{2}{3} \\\\\n",
    "\\text{then apply to formula} \\\\\n",
    "\\int \\frac{2}{3}xe^{3x} dx & = \\frac{2}{3}x\\frac{1}{3}e^{3x} - \\int \\Big( \\frac{1}{3}e^{3x} . \\frac{2}{3} \\Big)   dx \\\\\n",
    "& = \\frac{2}{9}x.e^{3x} - \\int \\frac{2}{9}e^{3x} dx \\\\\n",
    "& = \\frac{2}{9}x.e^{3x} - \\frac{2}{27}e^{3x} \\\\\n",
    "\\\\\n",
    "\\text{replace with earlier calc} \\\\\n",
    "& = \\frac{1}{3}x^2e^{3x} - \\frac{2}{9}x.e^{3x} - \\frac{2}{27}e^{3x} + C \\\\\n",
    "& = \\Big( \\frac{1}{3}x^2 - \\frac{2}{9}x - \\frac{2}{27} \\Big)e^{3x} + C \\\\\n",
    "& = \\frac{9x^2 - 6x - 2}{27}e^{3x} + C \\\\\n",
    "\\text{completing the square} \\\\\n",
    "& = \\frac{(3x-1)^2 - 3}{27}e^{3x} + C \\\\\n",
    "\\\\\n",
    "\\end{split}\n",
    "\\end{equation}$"
   ]
  },
  {
   "cell_type": "markdown",
   "metadata": {},
   "source": [
    "----\n",
    "\n",
    "### Integration by Parts\n",
    "#### Example $\\int x.cos(x).dx$\n",
    "(from http://www.mathcentre.ac.uk/resources/uploaded/mc-ty-parts-2009-1.pdf)\n",
    "$\\newcommand{\\dv}{\\displaystyle \\frac{d}{dx}}$\n",
    "$\\newcommand{\\ds}{\\displaystyle}$\n",
    "$\\ds \\begin{equation} \\label{eq2}\n",
    "\\begin{split}\n",
    "\\text{using formula} \\\\\n",
    "\\int u.\\frac{d(v)}{dx} & = u.v - \\int v.\\frac{d(u)}{dx} dx \\\\\n",
    "\\text{we assign} \\\\\n",
    "u & = x \\\\\n",
    "\\frac{dv}{dx} & = cos(x) \\\\\n",
    "\\text{we calculate} \\\\\n",
    "v & = \\int \\frac{dv}{dx} dx = \\int cos(x) dx = sin(x) \\\\\n",
    "\\frac{du}{dx} & = \\frac{d(x)}{dx} = 1 \\\\\n",
    "\\text{then apply to formula} \\\\\n",
    "\\int x.cos(x).dx & = x.sin(x) - \\int sin(x).1.dx \\\\\n",
    " & = x.sin(x) - cos(x) + C \\\\\n",
    "\\end{split}\n",
    "\\end{equation}$"
   ]
  },
  {
   "cell_type": "markdown",
   "metadata": {},
   "source": [
    "----\n"
   ]
  },
  {
   "cell_type": "code",
   "execution_count": null,
   "metadata": {},
   "outputs": [],
   "source": []
  }
 ],
 "metadata": {
  "kernelspec": {
   "display_name": "Python 3",
   "language": "python",
   "name": "python3"
  },
  "language_info": {
   "codemirror_mode": {
    "name": "ipython",
    "version": 3
   },
   "file_extension": ".py",
   "mimetype": "text/x-python",
   "name": "python",
   "nbconvert_exporter": "python",
   "pygments_lexer": "ipython3",
   "version": "3.6.5"
  }
 },
 "nbformat": 4,
 "nbformat_minor": 2
}
