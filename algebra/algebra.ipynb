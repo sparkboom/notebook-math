{
 "cells": [
  {
   "cell_type": "markdown",
   "metadata": {},
   "source": [
    "# Algebra"
   ]
  },
  {
   "cell_type": "markdown",
   "metadata": {},
   "source": [
    "## Real Numbers\n",
    "\n",
    "Commutative\n",
    "```\n",
    "a + b = b + a\n",
    "```\n",
    "\n",
    "Associative\n",
    "```\n",
    "a + (b + c) = (a + b) + c\n",
    "```\n",
    "\n",
    "Distributive\n",
    "```\n",
    "(a + b)c = ac + bc\n",
    "```\n",
    "\n",
    "|Operation|Commutative|Associative|Distributive|\n",
    "|-|-|-|-|\n",
    "|Addition|✓|✓||\n",
    "|Multiplication|✓|✓||"
   ]
  },
  {
   "cell_type": "markdown",
   "metadata": {},
   "source": [
    "----\n",
    "\n",
    "## Law of Exponents\n",
    "\n",
    "$\\displaystyle \\begin{equation} \\label{eq1}\n",
    "\\begin{split}\n",
    "a^0 & = 1 \\\\\n",
    "(a^m)(a^n) & = a^{m+n} \\\\\n",
    "(ab)^m & = a^mb^m \\\\\n",
    "(a^m)^n & = a^{mn} \\\\\n",
    "\\frac{a^m}{a^n} & = a^{m-n} \\\\\n",
    "a^m & = \\frac{1}{a^{-m}} \\\\\n",
    "a^{-m} & = \\frac{1}{a^{m}} \\\\\n",
    "a^b & = e^{ln(a)b} \\\\\n",
    "\\end{split}\n",
    "\\end{equation}$"
   ]
  },
  {
   "cell_type": "markdown",
   "metadata": {},
   "source": [
    "----\n",
    "\n",
    "## Formulas\n",
    "https://byjus.com/algebra-formulas\n",
    "\n",
    "$\\displaystyle \\begin{equation} \\label{eq1}\n",
    "\\begin{split}\n",
    "a^2 - b^2 & = (a+b)(a-b) & \\\\\n",
    "a^2 + 2ab + b^2 & = (a+b)^2 & \\\\\n",
    "a^2 + b^2 & = (a-b)^2\\;+ && 2ab \\\\\n",
    "(a + b + c)^2 & = & a^2\\;+\\;b^2\\;+\\;c^2\\;+\\;& 2ab\\;+\\;& 2ac\\;+\\;& 2bc \\\\\n",
    "(a\\;–\\;b\\;–\\;c)^2 & = & a^2\\;+\\;b^2\\;+\\;c^2\\;–\\;& 2ab\\;–\\;& 2ac\\;+\\;& 2bc \\\\\n",
    "\\end{split}\n",
    "\\end{equation}$\n",
    "\n",
    "<br/>\n",
    "\n",
    "$\\displaystyle \\begin{equation} \\label{eq2}\n",
    "\\begin{split}\n",
    "(a + b)^3 & = & a^3\\;+\\;& 3a^2b\\;+\\;& 3ab^2\\;+\\;& b^3 \\\\\n",
    " & = 3ab(a + b) & a^3\\;+\\;&&& b^3 \\\\\n",
    "(a – b)^3 & = & a^3 \\;–\\;& 3a^2b\\;+\\;& 3ab^2\\;–\\;& b^3 \\\\\n",
    "a^3 – b^3 & = (a – b)(a^2 + ab + b^2) & \\\\\n",
    "a^3 + b^3 & = (a + b)(a^2 – ab + b^2) & \\\\\n",
    "(a + b)^3 & = & a^3\\;+\\;& 3a^2b\\;+\\;& 3ab^2\\;+\\;& b^3 \\\\\n",
    "(a – b)^3 & = & a^3\\;–\\;& 3a^2b\\;+\\;& 3ab^2\\;-\\;& b^3 \\\\\n",
    "\\end{split}\n",
    "\\end{equation}$\n",
    "\n",
    "<br/>\n",
    "\n",
    "$\\displaystyle \\begin{equation} \\label{eq3}\n",
    "\\begin{split}\n",
    "(a + b)^4 & = & a^4\\;+\\;& 4a^3b\\;+\\;& 6a^2b^2\\;+\\;& 4ab^3\\;+\\;& b^4 \\\\\n",
    "(a – b)^4 & = & a^4\\;–\\;& 4a^3b\\;+\\;& 6a^2b^2\\;–\\;& 4ab^3\\;+\\;& b^4 \\\\\n",
    "a^4 – b^4 & = (a – b)(a + b)(a^2 + b^2) & \\\\\n",
    "\\end{split}\n",
    "\\end{equation}$\n",
    "\n",
    "<br/>\n",
    "\n",
    "$\\displaystyle \\begin{equation} \\label{eq4}\n",
    "\\begin{split}\n",
    "a5 – b5 = (a – b)(a4 + a3b + a2b2 + ab3 + b4) \\\\\n",
    "\\end{split}\n",
    "\\end{equation}$\n",
    "\n",
    "\n",
    "\n"
   ]
  },
  {
   "cell_type": "code",
   "execution_count": null,
   "metadata": {},
   "outputs": [],
   "source": []
  }
 ],
 "metadata": {
  "kernelspec": {
   "display_name": "Python 3",
   "language": "python",
   "name": "python3"
  },
  "language_info": {
   "codemirror_mode": {
    "name": "ipython",
    "version": 3
   },
   "file_extension": ".py",
   "mimetype": "text/x-python",
   "name": "python",
   "nbconvert_exporter": "python",
   "pygments_lexer": "ipython3",
   "version": "3.6.5"
  }
 },
 "nbformat": 4,
 "nbformat_minor": 2
}
