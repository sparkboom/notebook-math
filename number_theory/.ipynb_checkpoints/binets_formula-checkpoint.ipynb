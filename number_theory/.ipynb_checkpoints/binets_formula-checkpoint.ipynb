{
 "cells": [
  {
   "cell_type": "markdown",
   "metadata": {},
   "source": [
    "# Binet's Formula\n",
    "\n",
    "## Formula\n",
    "\n",
    "Explicit formula to find the nth term of the Fibonacci sequence.\n",
    "\n",
    "$\\displaystyle F_n = \\frac{1}{\\sqrt{5}} \\Bigg(\\Bigg( \\frac{1 + \\sqrt{5}}{2} \\Bigg)^n - \\Bigg( \\frac{1 - \\sqrt{5}}{2} \\Bigg)^n \\Bigg)$\n",
    "\n",
    "*Derived by Jacques Philippe Marie Binet, alreday known by Abraham de Moivre*"
   ]
  },
  {
   "cell_type": "markdown",
   "metadata": {},
   "source": [
    "----\n",
    "\n",
    "## Fibonacci Sequence\n",
    "\n",
    "The Fibonacci sequence iterates with the next value being the sum of the previous two:\n",
    "\n",
    "$F_{n+1} = F_n + F_{n-1}$\n"
   ]
  },
  {
   "cell_type": "code",
   "execution_count": 39,
   "metadata": {},
   "outputs": [
    {
     "data": {
      "text/plain": [
       "'1, 1, 2, 3, 5, 8, 13, 21, 34, 55, 89, 144, 233, 377, 610, 987, 1597, 2584, 4181, 6765'"
      ]
     },
     "execution_count": 39,
     "metadata": {},
     "output_type": "execute_result"
    }
   ],
   "source": [
    "def fib(n):\n",
    "    a = b = 1\n",
    "    for _ in range(n):\n",
    "        yield a\n",
    "        a, b = b, a + b\n",
    "\n",
    "\", \".join([str(x) for x in fib(20)])"
   ]
  },
  {
   "cell_type": "markdown",
   "metadata": {},
   "source": [
    "----\n",
    "## Proof\n",
    "\n",
    "### Fibonacci Ratios\n",
    "The ratios of the Fibanacci sequence\n",
    "\n",
    "$\\displaystyle \\lim_{n \\rightarrow \\infty} \\frac{F_n}{F_{n-1}} = \\varphi$ <br/>\n",
    "\n",
    "$\\displaystyle \\frac{F_n}{F_{n-1}}$ converges to the limit $\\phi$"
   ]
  },
  {
   "cell_type": "code",
   "execution_count": 44,
   "metadata": {},
   "outputs": [
    {
     "data": {
      "text/plain": [
       "'1.000000, 0.500000, 0.666667, 0.600000, 0.625000, 0.615385, 0.619048, 0.617647, 0.618182, 0.617978, 0.618056, 0.618026, 0.618037, 0.618033, 0.618034, 0.618034, 0.618034, 0.618034, 0.618034, 0.618034'"
      ]
     },
     "execution_count": 44,
     "metadata": {},
     "output_type": "execute_result"
    }
   ],
   "source": [
    "def fib_ratio(n):\n",
    "    a = b = 1\n",
    "    for _ in range(n):\n",
    "        yield a/b\n",
    "        a, b = b, a + b\n",
    "\n",
    "\", \".join([\"{0:.6f}\".format(x) for x in fib_ratio(20)])"
   ]
  },
  {
   "cell_type": "markdown",
   "metadata": {},
   "source": [
    "### Compose as a Geometric Sequence\n",
    "\n",
    "This sequence resembles a geometric sequence. Geometric sequences have terms in the form of $G_n = a \\cdot r^n$ .\n",
    "\n",
    "Therefore $F_{n+1} = F_n + F_{n-1} \\implies a \\cdot r^{n+1} = a \\cdot r^n + a \\cdot r^{n-1} \\implies r^2 = r + 1$.\n",
    "\n",
    "### Resolve Quadratic\n",
    "Using the Quadratic formula we find r as $1+\\varphi$, or $\\displaystyle\\frac{1 \\pm \\sqrt{5}}{2}$\n",
    "\n",
    "Let's declare $G_n = \\displaystyle\\frac{1 + \\sqrt{5}}{2}$, and $H_n = \\displaystyle\\frac{1 - \\sqrt{5}}{2}$\n"
   ]
  },
  {
   "cell_type": "code",
   "execution_count": 68,
   "metadata": {},
   "outputs": [
    {
     "data": {
      "image/png": "[encoded data removed]",
      "text/plain": [
       "<Figure size 432x288 with 1 Axes>"
      ]
     },
     "metadata": {},
     "output_type": "display_data"
    },
    {
     "data": {
      "image/png": "[encoded data removed]",
      "text/latex": [
       "$$\\left [ \\frac{1}{2} + \\frac{\\sqrt{5}}{2}, \\quad - \\frac{\\sqrt{5}}{2} + \\frac{1}{2}\\right ]$$"
      ],
      "text/plain": [
       "⎡1   √5    √5   1⎤\n",
       "⎢─ + ──, - ── + ─⎥\n",
       "⎣2   2     2    2⎦"
      ]
     },
     "execution_count": 68,
     "metadata": {},
     "output_type": "execute_result"
    }
   ],
   "source": [
    "# x^2−x−1=0\n",
    "from sympy import *\n",
    "from sympy.plotting import plot\n",
    "from sympy.solvers import solve\n",
    "\n",
    "init_printing()\n",
    "x = symbols('x')\n",
    "exp = x**2 - x -1\n",
    "\n",
    "plot(exp, (x, -2, 2))\n",
    "\n",
    "answers = solve(x**2 -x -1, x)\n",
    "[ratsimp(a) for a in answers]"
   ]
  },
  {
   "cell_type": "markdown",
   "metadata": {},
   "source": [
    "### Conclusion\n",
    "Although neither $G_n$ and $H_n$ conform to the Fibonacci sequence, through induction, $G_n - H_n$ does.\n",
    "\n",
    "To find $a$, we can see that $F_0 = G_0 - H_0 = 0, and F_1 = G_1 - H_1 = 1 \\implies a = \\frac{1}{\\sqrt{5}}$\n",
    "\n",
    "----\n",
    "## References\n",
    "- [Art of Problem Solving - Binet's Formula][3]\n",
    "- [Art of Problem Solving - Geometric Sequence][2]\n",
    "- [Art of Problem Solving - Fibonacci Sequence][1]\n",
    "\n",
    " [1]: https://artofproblemsolving.com/wiki/index.php?title=Fibonacci_sequence\n",
    " [2]: https://artofproblemsolving.com/wiki/index.php?title=Geometric_sequence\n",
    " [3]: https://artofproblemsolving.com/wiki/index.php?title=Binet%27s_Formula"
   ]
  }
 ],
 "metadata": {
  "kernelspec": {
   "display_name": "Python 3",
   "language": "python",
   "name": "python3"
  },
  "language_info": {
   "codemirror_mode": {
    "name": "ipython",
    "version": 3
   },
   "file_extension": ".py",
   "mimetype": "text/x-python",
   "name": "python",
   "nbconvert_exporter": "python",
   "pygments_lexer": "ipython3",
   "version": "3.6.5"
  }
 },
 "nbformat": 4,
 "nbformat_minor": 2
}
