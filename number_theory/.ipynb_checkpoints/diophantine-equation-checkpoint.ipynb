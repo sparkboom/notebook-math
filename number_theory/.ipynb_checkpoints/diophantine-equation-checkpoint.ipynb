{
 "cells": [
  {
   "cell_type": "code",
   "execution_count": 2,
   "metadata": {},
   "outputs": [],
   "source": []
  },
  {
   "cell_type": "markdown",
   "metadata": {},
   "source": [
    "# Diophantine Equation\n",
    "\n",
    "Goal - finding the integer solutions\n",
    "\n",
    "$a \\in \\mathbb{Z}$ and $b \\in \\mathbb{Z}$\n",
    "\n",
    "Then the following diophantine equation has a solution.\n",
    "\n",
    "$a.x + b.y = gcd(a,b)$\n",
    "\n",
    "----\n",
    "\n",
    "Example:\n",
    "47x + 30y = 1\n",
    "Use Euclidean Algorithm\n",
    "a / b = q + r  =>   a = b.q + r\n",
    "\n",
    "\n",
    "47/30 = 1, r 17 <br/><br/>\n",
    "\n",
    "$\\begin{equation}\n",
    "\\begin{split}\n",
    "47 &= 30(1) &+ 17  &\\implies 17 &= 47(1) &+ 30(-1) \\\\\n",
    "30 &= 17(1) &+ 13  &\\implies 13 &= 30(1) &+ 17(-1) \\\\\n",
    "17 &= 13(1) &+ 4  &\\implies 4 &= 17(1) &+ 13(-1) \\\\\n",
    "13 &= 4(3) &+ 1  &\\implies 1 &= 13(1) &+ 4(-3) \\\\\n",
    "\\end{split}\n",
    "\\end{equation}$\n",
    "\n",
    "\n",
    "\n",
    "$\\begin{equation}\n",
    "\\begin{split}\n",
    "1 &= 13(1) &+ 4(-3) &&\\text{  substitute 4} \\\\\n",
    "&= 13(1)   &+ \\Big(17(1) &+ 13(-1)\\Big)&(-3) \\\\\n",
    "&= 13(1)   &+ 17(-3) &+ 13(3) \\\\\n",
    "&= 17(-3)  &+ 13(4) &&\\text{  substitute 13} \\\\\n",
    "&= 17(-3)  &+ \\Big( 30(1) &+ 17(-1) \\Big)&(4) \\\\\n",
    "&= 17(-3)  &+ 30(4) &+ 17(-4) \\\\\n",
    "&= 30(4)   &+ 17(-7) &&\\text{  substitute 17}\\\\\n",
    "&= 30(4)   &+ \\Big( 47(1) &+ 30(-1) \\Big)&(-7) \\\\\n",
    "&= 30(4)   &+  47(-7) &+ 30(7) \\\\\n",
    "&= 47(-7)  &+ 30(11) \\\\\n",
    "\\end{split}\n",
    "\\end{equation}$\n",
    "\n",
    "47x + 30y = 1 has a solution, x=-7, y=11\n",
    "\n"
   ]
  },
  {
   "cell_type": "code",
   "execution_count": null,
   "metadata": {},
   "outputs": [],
   "source": []
  },
  {
   "cell_type": "code",
   "execution_count": null,
   "metadata": {},
   "outputs": [],
   "source": []
  }
 ],
 "metadata": {
  "kernelspec": {
   "display_name": "Python 3",
   "language": "python",
   "name": "python3"
  },
  "language_info": {
   "codemirror_mode": {
    "name": "ipython",
    "version": 3
   },
   "file_extension": ".py",
   "mimetype": "text/x-python",
   "name": "python",
   "nbconvert_exporter": "python",
   "pygments_lexer": "ipython3",
   "version": "3.6.5"
  }
 },
 "nbformat": 4,
 "nbformat_minor": 2
}
