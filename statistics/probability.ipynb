{
 "cells": [
  {
   "cell_type": "markdown",
   "metadata": {},
   "source": [
    "# Probability\n",
    "\n",
    "- A variable can represent an event. \n",
    "- The probability function is $P$\n",
    "\n",
    "**Single Event/Unbias Single Outcome**\n",
    "> **Definition** <br/>\n",
    "> $P(A) = \\frac{1}{N}$, where $N$ is the number of possible outcomes \n",
    "> \n",
    "> **Example** <br/> \n",
    "> Rolling a 6 using an unbias, 6-sided die(dice) <br/>\n",
    "> $P(\\{6\\}) = \\frac{1}{6}$\n",
    "\n",
    "**Single Event/Mutual Exclusivity - A or B**   <br/>\n",
    "> **Mutually Exclusive** <br/>\n",
    "> $P(A \\land B) = 0$ <br/>\n",
    ">\n",
    "> **Independent** <br/>\n",
    "> *First event does not influence second.* <br/> \n",
    "> $P(B | A) = P(B)$ <br/>\n",
    ">\n",
    "> **Definition** <br/>\n",
    "> $P(A \\lor B) = P(A) + P(B)$ \n",
    "> \n",
    "> **Example** <br/> \n",
    "> Throw 1 or a 6 using an unbias, 6-sided die. <br/>\n",
    "> $P(\\{1\\} \\lor \\{6\\}) = P(\\{1\\}) + P(\\{6\\})$ \n",
    "\n",
    "**Multiple Events (Non-Mutually Exclusive) - A or B** \n",
    "> **Not Mutually Exclusive** <br/>\n",
    "> $P(A \\land B) \\ne 0$ <br/>\n",
    ">\n",
    "> **Independent** <br/>\n",
    "> *First event does not influence second.* <br/> \n",
    "> $P(B | A) = P(B)$ <br/>\n",
    ">\n",
    "> $P(A \\lor B) = P(A) + P(B) - P(A \\land B)$ <br/>\n",
    "> *($P(A) + P(B)$ both include $P(A \\land B)$)*\n",
    ">\n",
    "> **Example** <br/>\n",
    "> Using an unbias, 6-sided die, get a 1 on 1st throw, *or* a 6 on 2nd throw. <br/>\n",
    "> $P(\\{1,*\\} \\lor \\{*,6\\}) = P(\\{1,*\\}) + P(\\{*,6\\}) - P(\\{1,6\\})$\n",
    "\n",
    "**Multiple Events - A and B** \n",
    "> **Not Mutually Exclusive** <br/>\n",
    "> $P(A \\land B) \\ne 0$ <br/>\n",
    ">\n",
    "> **Independent** <br/>\n",
    "> *First event does not influence second.* <br/> \n",
    "> $P(B | A) = P(B)$ <br/>\n",
    ">\n",
    "> $P(A \\land B) = P(A) \\times P(B)$ <br/>\n",
    ">\n",
    "> **Example** <br/>\n",
    "> Using an unbias, 6-sided die, get a 1 on 1st throw, *and* a 6 on 2nd throw. <br/>\n",
    "> $P(\\{1,6\\}) = P(\\{1,*\\}) \\times P(\\{*,6\\})$ <br/>\n",
    "\n",
    "**Conditional Probabilities - if B, A** \n",
    "> **Dependent** <br/>\n",
    "> *First event does not influence second.* <br/> \n",
    "> $P(B | A) \\ne P(A)$ <br/>\n",
    ">\n",
    "> **Definition** <br/>\n",
    "> *Probability of B ocurring if A has already occured* <br/>\n",
    "> $\\displaystyle P(B | A) = \\frac{P(A \\land B)}{P(A)}$ <br/>\n",
    ">\n",
    "> **Example** <br/>\n",
    "> need example\n",
    ">"
   ]
  },
  {
   "cell_type": "markdown",
   "metadata": {},
   "source": [
    " \n",
    "\n",
    "**Bayes Theroem** <br/>\n",
    "> $\\displaystyle P(B | A) = \\frac{P(A | B) P(B)}{P(A)}$\n",
    "\n"
   ]
  },
  {
   "cell_type": "code",
   "execution_count": null,
   "metadata": {},
   "outputs": [],
   "source": []
  }
 ],
 "metadata": {
  "kernelspec": {
   "display_name": "Python 3",
   "language": "python",
   "name": "python3"
  },
  "language_info": {
   "codemirror_mode": {
    "name": "ipython",
    "version": 3
   },
   "file_extension": ".py",
   "mimetype": "text/x-python",
   "name": "python",
   "nbconvert_exporter": "python",
   "pygments_lexer": "ipython3",
   "version": "3.6.5"
  }
 },
 "nbformat": 4,
 "nbformat_minor": 2
}
